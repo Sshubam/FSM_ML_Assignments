{
  "cells": [
    {
      "cell_type": "markdown",
      "metadata": {
        "id": "view-in-github",
        "colab_type": "text"
      },
      "source": [
        "<a href=\"https://colab.research.google.com/github/Sshubam/FSM_ML_Assignments/blob/main/FSM_3_KMeans_PCA_Final.ipynb\" target=\"_parent\"><img src=\"https://colab.research.google.com/assets/colab-badge.svg\" alt=\"Open In Colab\"/></a>"
      ]
    },
    {
      "cell_type": "markdown",
      "source": [
        "\n",
        "\n",
        "---\n",
        "\n",
        "\n",
        "# Loading and Preprocessing our Data\n",
        "\n",
        "\n",
        "---\n",
        "\n"
      ],
      "metadata": {
        "id": "sNhpdrVrOqdl"
      }
    },
    {
      "cell_type": "code",
      "execution_count": 772,
      "metadata": {
        "id": "OKhF2VcRbl1G"
      },
      "outputs": [],
      "source": [
        "import numpy as np\n",
        "import numpy.matlib\n",
        "import pandas as pd\n",
        "import matplotlib as mpl\n",
        "import matplotlib.pyplot as plt\n",
        "from sklearn.preprocessing import MinMaxScaler"
      ]
    },
    {
      "cell_type": "code",
      "execution_count": 773,
      "metadata": {
        "colab": {
          "base_uri": "https://localhost:8080/",
          "height": 206
        },
        "id": "ZMqDKxfAwhU_",
        "outputId": "72624e5b-b5e4-40ac-c2bc-4e179f95dc30"
      },
      "outputs": [
        {
          "output_type": "execute_result",
          "data": {
            "text/plain": [
              "   Id  SepalLengthCm  SepalWidthCm  PetalLengthCm  PetalWidthCm      Species\n",
              "0   1            5.1           3.5            1.4           0.2  Iris-setosa\n",
              "1   2            4.9           3.0            1.4           0.2  Iris-setosa\n",
              "2   3            4.7           3.2            1.3           0.2  Iris-setosa\n",
              "3   4            4.6           3.1            1.5           0.2  Iris-setosa\n",
              "4   5            5.0           3.6            1.4           0.2  Iris-setosa"
            ],
            "text/html": [
              "\n",
              "  <div id=\"df-c1a6f99d-9bb2-4bd3-9cb1-909a48813306\">\n",
              "    <div class=\"colab-df-container\">\n",
              "      <div>\n",
              "<style scoped>\n",
              "    .dataframe tbody tr th:only-of-type {\n",
              "        vertical-align: middle;\n",
              "    }\n",
              "\n",
              "    .dataframe tbody tr th {\n",
              "        vertical-align: top;\n",
              "    }\n",
              "\n",
              "    .dataframe thead th {\n",
              "        text-align: right;\n",
              "    }\n",
              "</style>\n",
              "<table border=\"1\" class=\"dataframe\">\n",
              "  <thead>\n",
              "    <tr style=\"text-align: right;\">\n",
              "      <th></th>\n",
              "      <th>Id</th>\n",
              "      <th>SepalLengthCm</th>\n",
              "      <th>SepalWidthCm</th>\n",
              "      <th>PetalLengthCm</th>\n",
              "      <th>PetalWidthCm</th>\n",
              "      <th>Species</th>\n",
              "    </tr>\n",
              "  </thead>\n",
              "  <tbody>\n",
              "    <tr>\n",
              "      <th>0</th>\n",
              "      <td>1</td>\n",
              "      <td>5.1</td>\n",
              "      <td>3.5</td>\n",
              "      <td>1.4</td>\n",
              "      <td>0.2</td>\n",
              "      <td>Iris-setosa</td>\n",
              "    </tr>\n",
              "    <tr>\n",
              "      <th>1</th>\n",
              "      <td>2</td>\n",
              "      <td>4.9</td>\n",
              "      <td>3.0</td>\n",
              "      <td>1.4</td>\n",
              "      <td>0.2</td>\n",
              "      <td>Iris-setosa</td>\n",
              "    </tr>\n",
              "    <tr>\n",
              "      <th>2</th>\n",
              "      <td>3</td>\n",
              "      <td>4.7</td>\n",
              "      <td>3.2</td>\n",
              "      <td>1.3</td>\n",
              "      <td>0.2</td>\n",
              "      <td>Iris-setosa</td>\n",
              "    </tr>\n",
              "    <tr>\n",
              "      <th>3</th>\n",
              "      <td>4</td>\n",
              "      <td>4.6</td>\n",
              "      <td>3.1</td>\n",
              "      <td>1.5</td>\n",
              "      <td>0.2</td>\n",
              "      <td>Iris-setosa</td>\n",
              "    </tr>\n",
              "    <tr>\n",
              "      <th>4</th>\n",
              "      <td>5</td>\n",
              "      <td>5.0</td>\n",
              "      <td>3.6</td>\n",
              "      <td>1.4</td>\n",
              "      <td>0.2</td>\n",
              "      <td>Iris-setosa</td>\n",
              "    </tr>\n",
              "  </tbody>\n",
              "</table>\n",
              "</div>\n",
              "      <button class=\"colab-df-convert\" onclick=\"convertToInteractive('df-c1a6f99d-9bb2-4bd3-9cb1-909a48813306')\"\n",
              "              title=\"Convert this dataframe to an interactive table.\"\n",
              "              style=\"display:none;\">\n",
              "        \n",
              "  <svg xmlns=\"http://www.w3.org/2000/svg\" height=\"24px\"viewBox=\"0 0 24 24\"\n",
              "       width=\"24px\">\n",
              "    <path d=\"M0 0h24v24H0V0z\" fill=\"none\"/>\n",
              "    <path d=\"M18.56 5.44l.94 2.06.94-2.06 2.06-.94-2.06-.94-.94-2.06-.94 2.06-2.06.94zm-11 1L8.5 8.5l.94-2.06 2.06-.94-2.06-.94L8.5 2.5l-.94 2.06-2.06.94zm10 10l.94 2.06.94-2.06 2.06-.94-2.06-.94-.94-2.06-.94 2.06-2.06.94z\"/><path d=\"M17.41 7.96l-1.37-1.37c-.4-.4-.92-.59-1.43-.59-.52 0-1.04.2-1.43.59L10.3 9.45l-7.72 7.72c-.78.78-.78 2.05 0 2.83L4 21.41c.39.39.9.59 1.41.59.51 0 1.02-.2 1.41-.59l7.78-7.78 2.81-2.81c.8-.78.8-2.07 0-2.86zM5.41 20L4 18.59l7.72-7.72 1.47 1.35L5.41 20z\"/>\n",
              "  </svg>\n",
              "      </button>\n",
              "      \n",
              "  <style>\n",
              "    .colab-df-container {\n",
              "      display:flex;\n",
              "      flex-wrap:wrap;\n",
              "      gap: 12px;\n",
              "    }\n",
              "\n",
              "    .colab-df-convert {\n",
              "      background-color: #E8F0FE;\n",
              "      border: none;\n",
              "      border-radius: 50%;\n",
              "      cursor: pointer;\n",
              "      display: none;\n",
              "      fill: #1967D2;\n",
              "      height: 32px;\n",
              "      padding: 0 0 0 0;\n",
              "      width: 32px;\n",
              "    }\n",
              "\n",
              "    .colab-df-convert:hover {\n",
              "      background-color: #E2EBFA;\n",
              "      box-shadow: 0px 1px 2px rgba(60, 64, 67, 0.3), 0px 1px 3px 1px rgba(60, 64, 67, 0.15);\n",
              "      fill: #174EA6;\n",
              "    }\n",
              "\n",
              "    [theme=dark] .colab-df-convert {\n",
              "      background-color: #3B4455;\n",
              "      fill: #D2E3FC;\n",
              "    }\n",
              "\n",
              "    [theme=dark] .colab-df-convert:hover {\n",
              "      background-color: #434B5C;\n",
              "      box-shadow: 0px 1px 3px 1px rgba(0, 0, 0, 0.15);\n",
              "      filter: drop-shadow(0px 1px 2px rgba(0, 0, 0, 0.3));\n",
              "      fill: #FFFFFF;\n",
              "    }\n",
              "  </style>\n",
              "\n",
              "      <script>\n",
              "        const buttonEl =\n",
              "          document.querySelector('#df-c1a6f99d-9bb2-4bd3-9cb1-909a48813306 button.colab-df-convert');\n",
              "        buttonEl.style.display =\n",
              "          google.colab.kernel.accessAllowed ? 'block' : 'none';\n",
              "\n",
              "        async function convertToInteractive(key) {\n",
              "          const element = document.querySelector('#df-c1a6f99d-9bb2-4bd3-9cb1-909a48813306');\n",
              "          const dataTable =\n",
              "            await google.colab.kernel.invokeFunction('convertToInteractive',\n",
              "                                                     [key], {});\n",
              "          if (!dataTable) return;\n",
              "\n",
              "          const docLinkHtml = 'Like what you see? Visit the ' +\n",
              "            '<a target=\"_blank\" href=https://colab.research.google.com/notebooks/data_table.ipynb>data table notebook</a>'\n",
              "            + ' to learn more about interactive tables.';\n",
              "          element.innerHTML = '';\n",
              "          dataTable['output_type'] = 'display_data';\n",
              "          await google.colab.output.renderOutput(dataTable, element);\n",
              "          const docLink = document.createElement('div');\n",
              "          docLink.innerHTML = docLinkHtml;\n",
              "          element.appendChild(docLink);\n",
              "        }\n",
              "      </script>\n",
              "    </div>\n",
              "  </div>\n",
              "  "
            ]
          },
          "metadata": {},
          "execution_count": 773
        }
      ],
      "source": [
        "idf = pd.read_csv(\"Iris Dataset.csv\")\n",
        "idf.head()"
      ]
    },
    {
      "cell_type": "code",
      "execution_count": 774,
      "metadata": {
        "id": "6LkrUYb65Iqt"
      },
      "outputs": [],
      "source": [
        "# Normalizing our Data to obtain a normal distribution so that our data is scaled\n",
        "\n",
        "idf['SepalWidthCm'] = (idf['SepalWidthCm'] - idf['SepalWidthCm'].mean() ) / idf['SepalWidthCm'].std()\n",
        "idf['PetalWidthCm'] = (idf['PetalWidthCm'] - idf['PetalWidthCm'].mean() ) / idf['PetalWidthCm'].std()\n",
        "idf['SepalLengthCm'] = (idf['SepalLengthCm'] - idf['SepalLengthCm'].mean() ) / idf['SepalLengthCm'].std()\n",
        "idf['PetalLengthCm'] = (idf['PetalLengthCm'] - idf['PetalLengthCm'].mean() ) / idf['PetalLengthCm'].std()"
      ]
    },
    {
      "cell_type": "code",
      "execution_count": 775,
      "metadata": {
        "id": "MclWgNNoHgJo"
      },
      "outputs": [],
      "source": [
        "# Label encoding our classes to feed into our model\n",
        "idf['Species'] = idf['Species'].map({'Iris-setosa': 1, 'Iris-versicolor' : 2, 'Iris-virginica' : 3})"
      ]
    },
    {
      "cell_type": "code",
      "execution_count": 776,
      "metadata": {
        "colab": {
          "base_uri": "https://localhost:8080/",
          "height": 206
        },
        "id": "D0puOG1G6MCj",
        "outputId": "1536bfc6-cda9-4b51-80cb-2ce81af6587b"
      },
      "outputs": [
        {
          "output_type": "execute_result",
          "data": {
            "text/plain": [
              "   Id  SepalLengthCm  SepalWidthCm  PetalLengthCm  PetalWidthCm  Species\n",
              "0   1      -0.897674      1.028611      -1.336794     -1.308593        1\n",
              "1   2      -1.139200     -0.124540      -1.336794     -1.308593        1\n",
              "2   3      -1.380727      0.336720      -1.393470     -1.308593        1\n",
              "3   4      -1.501490      0.106090      -1.280118     -1.308593        1\n",
              "4   5      -1.018437      1.259242      -1.336794     -1.308593        1"
            ],
            "text/html": [
              "\n",
              "  <div id=\"df-2ecbfd90-17cc-4adb-91d0-f2d267ca65e4\">\n",
              "    <div class=\"colab-df-container\">\n",
              "      <div>\n",
              "<style scoped>\n",
              "    .dataframe tbody tr th:only-of-type {\n",
              "        vertical-align: middle;\n",
              "    }\n",
              "\n",
              "    .dataframe tbody tr th {\n",
              "        vertical-align: top;\n",
              "    }\n",
              "\n",
              "    .dataframe thead th {\n",
              "        text-align: right;\n",
              "    }\n",
              "</style>\n",
              "<table border=\"1\" class=\"dataframe\">\n",
              "  <thead>\n",
              "    <tr style=\"text-align: right;\">\n",
              "      <th></th>\n",
              "      <th>Id</th>\n",
              "      <th>SepalLengthCm</th>\n",
              "      <th>SepalWidthCm</th>\n",
              "      <th>PetalLengthCm</th>\n",
              "      <th>PetalWidthCm</th>\n",
              "      <th>Species</th>\n",
              "    </tr>\n",
              "  </thead>\n",
              "  <tbody>\n",
              "    <tr>\n",
              "      <th>0</th>\n",
              "      <td>1</td>\n",
              "      <td>-0.897674</td>\n",
              "      <td>1.028611</td>\n",
              "      <td>-1.336794</td>\n",
              "      <td>-1.308593</td>\n",
              "      <td>1</td>\n",
              "    </tr>\n",
              "    <tr>\n",
              "      <th>1</th>\n",
              "      <td>2</td>\n",
              "      <td>-1.139200</td>\n",
              "      <td>-0.124540</td>\n",
              "      <td>-1.336794</td>\n",
              "      <td>-1.308593</td>\n",
              "      <td>1</td>\n",
              "    </tr>\n",
              "    <tr>\n",
              "      <th>2</th>\n",
              "      <td>3</td>\n",
              "      <td>-1.380727</td>\n",
              "      <td>0.336720</td>\n",
              "      <td>-1.393470</td>\n",
              "      <td>-1.308593</td>\n",
              "      <td>1</td>\n",
              "    </tr>\n",
              "    <tr>\n",
              "      <th>3</th>\n",
              "      <td>4</td>\n",
              "      <td>-1.501490</td>\n",
              "      <td>0.106090</td>\n",
              "      <td>-1.280118</td>\n",
              "      <td>-1.308593</td>\n",
              "      <td>1</td>\n",
              "    </tr>\n",
              "    <tr>\n",
              "      <th>4</th>\n",
              "      <td>5</td>\n",
              "      <td>-1.018437</td>\n",
              "      <td>1.259242</td>\n",
              "      <td>-1.336794</td>\n",
              "      <td>-1.308593</td>\n",
              "      <td>1</td>\n",
              "    </tr>\n",
              "  </tbody>\n",
              "</table>\n",
              "</div>\n",
              "      <button class=\"colab-df-convert\" onclick=\"convertToInteractive('df-2ecbfd90-17cc-4adb-91d0-f2d267ca65e4')\"\n",
              "              title=\"Convert this dataframe to an interactive table.\"\n",
              "              style=\"display:none;\">\n",
              "        \n",
              "  <svg xmlns=\"http://www.w3.org/2000/svg\" height=\"24px\"viewBox=\"0 0 24 24\"\n",
              "       width=\"24px\">\n",
              "    <path d=\"M0 0h24v24H0V0z\" fill=\"none\"/>\n",
              "    <path d=\"M18.56 5.44l.94 2.06.94-2.06 2.06-.94-2.06-.94-.94-2.06-.94 2.06-2.06.94zm-11 1L8.5 8.5l.94-2.06 2.06-.94-2.06-.94L8.5 2.5l-.94 2.06-2.06.94zm10 10l.94 2.06.94-2.06 2.06-.94-2.06-.94-.94-2.06-.94 2.06-2.06.94z\"/><path d=\"M17.41 7.96l-1.37-1.37c-.4-.4-.92-.59-1.43-.59-.52 0-1.04.2-1.43.59L10.3 9.45l-7.72 7.72c-.78.78-.78 2.05 0 2.83L4 21.41c.39.39.9.59 1.41.59.51 0 1.02-.2 1.41-.59l7.78-7.78 2.81-2.81c.8-.78.8-2.07 0-2.86zM5.41 20L4 18.59l7.72-7.72 1.47 1.35L5.41 20z\"/>\n",
              "  </svg>\n",
              "      </button>\n",
              "      \n",
              "  <style>\n",
              "    .colab-df-container {\n",
              "      display:flex;\n",
              "      flex-wrap:wrap;\n",
              "      gap: 12px;\n",
              "    }\n",
              "\n",
              "    .colab-df-convert {\n",
              "      background-color: #E8F0FE;\n",
              "      border: none;\n",
              "      border-radius: 50%;\n",
              "      cursor: pointer;\n",
              "      display: none;\n",
              "      fill: #1967D2;\n",
              "      height: 32px;\n",
              "      padding: 0 0 0 0;\n",
              "      width: 32px;\n",
              "    }\n",
              "\n",
              "    .colab-df-convert:hover {\n",
              "      background-color: #E2EBFA;\n",
              "      box-shadow: 0px 1px 2px rgba(60, 64, 67, 0.3), 0px 1px 3px 1px rgba(60, 64, 67, 0.15);\n",
              "      fill: #174EA6;\n",
              "    }\n",
              "\n",
              "    [theme=dark] .colab-df-convert {\n",
              "      background-color: #3B4455;\n",
              "      fill: #D2E3FC;\n",
              "    }\n",
              "\n",
              "    [theme=dark] .colab-df-convert:hover {\n",
              "      background-color: #434B5C;\n",
              "      box-shadow: 0px 1px 3px 1px rgba(0, 0, 0, 0.15);\n",
              "      filter: drop-shadow(0px 1px 2px rgba(0, 0, 0, 0.3));\n",
              "      fill: #FFFFFF;\n",
              "    }\n",
              "  </style>\n",
              "\n",
              "      <script>\n",
              "        const buttonEl =\n",
              "          document.querySelector('#df-2ecbfd90-17cc-4adb-91d0-f2d267ca65e4 button.colab-df-convert');\n",
              "        buttonEl.style.display =\n",
              "          google.colab.kernel.accessAllowed ? 'block' : 'none';\n",
              "\n",
              "        async function convertToInteractive(key) {\n",
              "          const element = document.querySelector('#df-2ecbfd90-17cc-4adb-91d0-f2d267ca65e4');\n",
              "          const dataTable =\n",
              "            await google.colab.kernel.invokeFunction('convertToInteractive',\n",
              "                                                     [key], {});\n",
              "          if (!dataTable) return;\n",
              "\n",
              "          const docLinkHtml = 'Like what you see? Visit the ' +\n",
              "            '<a target=\"_blank\" href=https://colab.research.google.com/notebooks/data_table.ipynb>data table notebook</a>'\n",
              "            + ' to learn more about interactive tables.';\n",
              "          element.innerHTML = '';\n",
              "          dataTable['output_type'] = 'display_data';\n",
              "          await google.colab.output.renderOutput(dataTable, element);\n",
              "          const docLink = document.createElement('div');\n",
              "          docLink.innerHTML = docLinkHtml;\n",
              "          element.appendChild(docLink);\n",
              "        }\n",
              "      </script>\n",
              "    </div>\n",
              "  </div>\n",
              "  "
            ]
          },
          "metadata": {},
          "execution_count": 776
        }
      ],
      "source": [
        "idf.head()"
      ]
    },
    {
      "cell_type": "code",
      "source": [
        "idf.info()"
      ],
      "metadata": {
        "colab": {
          "base_uri": "https://localhost:8080/"
        },
        "id": "ymabjb84Zw54",
        "outputId": "1f8a58d3-5fc0-498c-e585-03f3727db08d"
      },
      "execution_count": 777,
      "outputs": [
        {
          "output_type": "stream",
          "name": "stdout",
          "text": [
            "<class 'pandas.core.frame.DataFrame'>\n",
            "RangeIndex: 150 entries, 0 to 149\n",
            "Data columns (total 6 columns):\n",
            " #   Column         Non-Null Count  Dtype  \n",
            "---  ------         --------------  -----  \n",
            " 0   Id             150 non-null    int64  \n",
            " 1   SepalLengthCm  150 non-null    float64\n",
            " 2   SepalWidthCm   150 non-null    float64\n",
            " 3   PetalLengthCm  150 non-null    float64\n",
            " 4   PetalWidthCm   150 non-null    float64\n",
            " 5   Species        150 non-null    int64  \n",
            "dtypes: float64(4), int64(2)\n",
            "memory usage: 7.2 KB\n"
          ]
        }
      ]
    },
    {
      "cell_type": "markdown",
      "source": [
        "\n",
        "\n",
        "---\n",
        "\n",
        "\n",
        "# Exploratory Data Analysis \n",
        "\n",
        "\n",
        "---\n",
        "\n"
      ],
      "metadata": {
        "id": "U1f3CCR8eM72"
      }
    },
    {
      "cell_type": "code",
      "source": [
        "idf.plot.scatter(x = 'SepalLengthCm', y = 'SepalWidthCm', c = 'Species', colormap = 'viridis')\n",
        "plt.show()"
      ],
      "metadata": {
        "colab": {
          "base_uri": "https://localhost:8080/",
          "height": 258
        },
        "id": "dkGMQzHfXwc6",
        "outputId": "c0a6ba1b-d7a5-4a23-e762-9c01dabbdde1"
      },
      "execution_count": 778,
      "outputs": [
        {
          "output_type": "display_data",
          "data": {
            "text/plain": [
              "<Figure size 432x288 with 2 Axes>"
            ],
            "image/png": "[encoded data removed]"
          },
          "metadata": {
            "needs_background": "light"
          }
        }
      ]
    },
    {
      "cell_type": "code",
      "source": [
        "idf.plot.scatter(x = 'PetalLengthCm', y = 'PetalWidthCm', c = 'Species', colormap = 'viridis')\n",
        "plt.show()"
      ],
      "metadata": {
        "colab": {
          "base_uri": "https://localhost:8080/",
          "height": 258
        },
        "id": "jrZPkYjGY9N9",
        "outputId": "ced3232d-d4f4-4df6-941b-3746e244b939"
      },
      "execution_count": 779,
      "outputs": [
        {
          "output_type": "display_data",
          "data": {
            "text/plain": [
              "<Figure size 432x288 with 2 Axes>"
            ],
            "image/png": "[encoded data removed]"
          },
          "metadata": {
            "needs_background": "light"
          }
        }
      ]
    },
    {
      "cell_type": "markdown",
      "source": [
        "**From the above Exploratory Data Analysis we can observe :**\n",
        "\n",
        "*    Flowers having higheest Sepal width and height are generally Iris-setosa (class 1)\n",
        "*    Flowers having lowest sepal width and height, generally are Iris-versicolor (class 2)\n",
        "*    Flowers having medium sepal width and height are generally Iris-virginica (class 3)\n",
        "\n",
        "\n",
        "*   Flowers having lowest Petal width and height are generally Iris-setosa (class 1)\n",
        "*   Flowers having medium Petal width and height are generally Iris-versicolor (class 2)\n",
        "*   Flowers having highest Petal width and height are generally Iris-virginica (class 3)\n",
        "\n",
        "\n",
        "\n",
        "\n",
        "\n"
      ],
      "metadata": {
        "id": "iw-oEQLInPrc"
      }
    },
    {
      "cell_type": "markdown",
      "source": [
        "\n",
        "\n",
        "---\n",
        "\n",
        "\n",
        "# KMeans Clustering\n",
        "\n",
        "\n",
        "---\n",
        "\n"
      ],
      "metadata": {
        "id": "HBfAf13a0bSp"
      }
    },
    {
      "cell_type": "markdown",
      "source": [
        "![kmeans-algorithm.webp](data:image/webp;base64,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)"
      ],
      "metadata": {
        "id": "Ixm7T2IyOlfu"
      }
    },
    {
      "cell_type": "code",
      "execution_count": 780,
      "metadata": {
        "id": "vIA_SecEhShJ"
      },
      "outputs": [],
      "source": [
        "cluster_data = idf[['SepalLengthCm', 'SepalWidthCm', 'PetalLengthCm', 'PetalWidthCm']].copy(deep=True)\n",
        "cluster_data.dropna(axis = 0, inplace = True)\n",
        "cluster_data.sort_values(by=['SepalLengthCm',\t'SepalWidthCm',\t'PetalLengthCm'\t,'PetalWidthCm'], inplace=True)\n",
        "cluster_array = np.array(cluster_data)"
      ]
    },
    {
      "cell_type": "code",
      "execution_count": 781,
      "metadata": {
        "id": "UKK-HPHxJb23"
      },
      "outputs": [],
      "source": [
        "# Calculate distance between two datapoints\n",
        "def distance(p1, p2):\n",
        "  return (sum((p1 - p2) ** 2)) ** 0.5"
      ]
    },
    {
      "cell_type": "code",
      "execution_count": 782,
      "metadata": {
        "id": "LLXAuoo8hD9Z"
      },
      "outputs": [],
      "source": [
        "# Allot clusters based on nearest centroid\n",
        "def allot_clusters(centroids, cluster_array):\n",
        "  clusters = []\n",
        "  for i in range(cluster_array.shape[0]):\n",
        "    distances_list = []\n",
        "    for centroid in centroids:\n",
        "      distances_list.append(distance(centroid, cluster_array[i]))\n",
        "    cluster = [z for z, val in enumerate(distances_list) if val == min(distances_list)]\n",
        "    clusters.append(cluster[0])\n",
        "  return clusters"
      ]
    },
    {
      "cell_type": "code",
      "execution_count": 783,
      "metadata": {
        "id": "JK4ghB_qhF3I"
      },
      "outputs": [],
      "source": [
        "# Calculate new centroids based on each cluster's mean\n",
        "def calc_centroids(clusters, cluster_array):\n",
        "  new_centroids = []\n",
        "  cluster_df = pd.concat([pd.DataFrame(cluster_array), pd.DataFrame(clusters, columns = ['cluster'])], axis=1)\n",
        "  for c in set(cluster_df['cluster']):\n",
        "    current_cluster = cluster_df[cluster_df['cluster'] == c][cluster_df.columns[:-1]]\n",
        "    cluster_mean = current_cluster.mean(axis=0)\n",
        "    new_centroids.append(cluster_mean)\n",
        "  return new_centroids"
      ]
    },
    {
      "cell_type": "code",
      "execution_count": 784,
      "metadata": {
        "id": "WpL3VlHIhIyo"
      },
      "outputs": [],
      "source": [
        "# Calculate variance within each cluster\n",
        "def calculate_centroid_variance(clusters, cluster_array):\n",
        "  sum_squares = []\n",
        "  cluster_df = pd.concat([pd.DataFrame(cluster_array), pd.DataFrame(clusters, columns=['cluster'])], axis=1)\n",
        "  for c in set(cluster_df['cluster']):\n",
        "    current_cluster = cluster_df[cluster_df['cluster'] == c][cluster_df.columns[:-1]]\n",
        "    cluster_mean = current_cluster.mean(axis=0)\n",
        "    mean_repmat = np.matlib.repmat(cluster_mean, current_cluster.shape[0], 1)\n",
        "    sum_squares.append(np.sum(np.sum((current_cluster - mean_repmat) ** 2)))\n",
        "  return sum_squares"
      ]
    },
    {
      "cell_type": "code",
      "execution_count": 785,
      "metadata": {
        "colab": {
          "base_uri": "https://localhost:8080/"
        },
        "id": "kiF_x7zkhLct",
        "outputId": "4578b881-bd22-46cf-ee02-d7f22d417fd9"
      },
      "outputs": [
        {
          "output_type": "stream",
          "name": "stdout",
          "text": [
            "143\n",
            "55.914400785901165\n",
            "47.90013175116709\n",
            "47.1417662426765\n",
            "46.96964276582292\n",
            "46.8619972501236\n"
          ]
        }
      ],
      "source": [
        "# Since we have 3 classes, we will set the value of k = 3 to make 3 clusters\n",
        "k = 3\n",
        "cluster_variances = []\n",
        "centroids = [cluster_array[i+2] for i in range(k)]\n",
        "clusters = allot_clusters(centroids, cluster_array)\n",
        "initial_clusters = clusters\n",
        "print(round(np.mean(calculate_centroid_variance(clusters, cluster_array))))\n",
        "for i in range(5):\n",
        "  centroids = calc_centroids(clusters, cluster_array)\n",
        "  clusters = allot_clusters(centroids, cluster_array)\n",
        "  cluster_variance = np.mean(calculate_centroid_variance(clusters, cluster_array))\n",
        "  cluster_variances.append(cluster_variance)\n",
        "  print((cluster_variance))"
      ]
    },
    {
      "cell_type": "code",
      "execution_count": 786,
      "metadata": {
        "colab": {
          "base_uri": "https://localhost:8080/",
          "height": 388
        },
        "id": "iCJ1a2Hniuug",
        "outputId": "be530550-d9bd-4e3a-aa80-94851ce70454"
      },
      "outputs": [
        {
          "output_type": "display_data",
          "data": {
            "text/plain": [
              "<Figure size 720x432 with 1 Axes>"
            ],
            "image/png": "[encoded data removed]"
          },
          "metadata": {
            "needs_background": "light"
          }
        }
      ],
      "source": [
        "plt.subplots(figsize=(10, 6))\n",
        "plt.plot(cluster_variances)\n",
        "plt.xlabel('Iterations')\n",
        "plt.ylabel('Mean Sum of Squared Deviations');"
      ]
    },
    {
      "cell_type": "code",
      "execution_count": 787,
      "metadata": {
        "colab": {
          "base_uri": "https://localhost:8080/",
          "height": 583
        },
        "id": "kAAWVRGL4-98",
        "outputId": "0155fe77-8399-4c90-c83b-907ec8bacff6"
      },
      "outputs": [
        {
          "output_type": "error",
          "ename": "NameError",
          "evalue": "ignored",
          "traceback": [
            "\u001b[0;31m---------------------------------------------------------------------------\u001b[0m",
            "\u001b[0;31mNameError\u001b[0m                                 Traceback (most recent call last)",
            "\u001b[0;32m<ipython-input-787-8cf63eef63ac>\u001b[0m in \u001b[0;36m<module>\u001b[0;34m()\u001b[0m\n\u001b[1;32m      1\u001b[0m \u001b[0mplt\u001b[0m\u001b[0;34m.\u001b[0m\u001b[0msubplots\u001b[0m\u001b[0;34m(\u001b[0m\u001b[0mfigsize\u001b[0m\u001b[0;34m=\u001b[0m\u001b[0;34m(\u001b[0m\u001b[0;36m10\u001b[0m\u001b[0;34m,\u001b[0m \u001b[0;36m6\u001b[0m\u001b[0;34m)\u001b[0m\u001b[0;34m)\u001b[0m\u001b[0;34m\u001b[0m\u001b[0;34m\u001b[0m\u001b[0m\n\u001b[0;32m----> 2\u001b[0;31m \u001b[0mplt\u001b[0m\u001b[0;34m.\u001b[0m\u001b[0mscatter\u001b[0m\u001b[0;34m(\u001b[0m\u001b[0mx\u001b[0m \u001b[0;34m=\u001b[0m \u001b[0mcluster_array\u001b[0m\u001b[0;34m[\u001b[0m\u001b[0;34m:\u001b[0m\u001b[0;34m,\u001b[0m \u001b[0;36m0\u001b[0m\u001b[0;34m]\u001b[0m\u001b[0;34m,\u001b[0m \u001b[0my\u001b[0m \u001b[0;34m=\u001b[0m \u001b[0mcluster_array\u001b[0m\u001b[0;34m[\u001b[0m\u001b[0;34m:\u001b[0m\u001b[0;34m,\u001b[0m \u001b[0;36m1\u001b[0m\u001b[0;34m]\u001b[0m\u001b[0;34m,\u001b[0m \u001b[0mc\u001b[0m \u001b[0;34m=\u001b[0m \u001b[0mInitial_clusters\u001b[0m\u001b[0;34m,\u001b[0m \u001b[0mcmap\u001b[0m \u001b[0;34m=\u001b[0m \u001b[0mplt\u001b[0m\u001b[0;34m.\u001b[0m\u001b[0mcm\u001b[0m\u001b[0;34m.\u001b[0m\u001b[0mcopper\u001b[0m\u001b[0;34m)\u001b[0m\u001b[0;34m\u001b[0m\u001b[0;34m\u001b[0m\u001b[0m\n\u001b[0m\u001b[1;32m      3\u001b[0m \u001b[0mplt\u001b[0m\u001b[0;34m.\u001b[0m\u001b[0mtitle\u001b[0m\u001b[0;34m(\u001b[0m\u001b[0;34m\"Initial cluster\"\u001b[0m\u001b[0;34m)\u001b[0m\u001b[0;34m\u001b[0m\u001b[0;34m\u001b[0m\u001b[0m\n\u001b[1;32m      4\u001b[0m \u001b[0mplt\u001b[0m\u001b[0;34m.\u001b[0m\u001b[0mshow\u001b[0m\u001b[0;34m(\u001b[0m\u001b[0;34m)\u001b[0m\u001b[0;34m\u001b[0m\u001b[0;34m\u001b[0m\u001b[0m\n",
            "\u001b[0;31mNameError\u001b[0m: name 'Initial_clusters' is not defined"
          ]
        },
        {
          "output_type": "display_data",
          "data": {
            "text/plain": [
              "<Figure size 720x432 with 1 Axes>"
            ],
            "image/png": "[encoded data removed]"
          },
          "metadata": {
            "needs_background": "light"
          }
        }
      ],
      "source": [
        "plt.subplots(figsize=(10, 6))\n",
        "plt.scatter(x = cluster_array[:, 0], y = cluster_array[:, 1], c = Initial_clusters, cmap = plt.cm.copper)\n",
        "plt.title(\"Initial cluster\")\n",
        "plt.show()"
      ]
    },
    {
      "cell_type": "code",
      "execution_count": null,
      "metadata": {
        "id": "dcVICKtAiyFg"
      },
      "outputs": [],
      "source": [
        "plt.subplots(figsize=(10, 6))\n",
        "plt.scatter(x = cluster_array[:, 0], y = cluster_array[:, 1], c = clusters, cmap = plt.cm.copper)\n",
        "plt.title(\"Final cluster\")\n",
        "plt.show()"
      ]
    },
    {
      "cell_type": "code",
      "execution_count": null,
      "metadata": {
        "id": "Bw45Lbk1qs-7"
      },
      "outputs": [],
      "source": [
        "results_df = cluster_data.join(idf[['Species']], how = 'left').reset_index(drop = True)\n",
        "results_df = pd.concat([results_df, pd.DataFrame(initial_clusters, columns=['initial_cluster']), pd.DataFrame(clusters, columns=['converged_cluster'])], axis = 1)"
      ]
    },
    {
      "cell_type": "code",
      "execution_count": null,
      "metadata": {
        "id": "VcFvLx0yqs2D"
      },
      "outputs": [],
      "source": [
        "results_df"
      ]
    },
    {
      "cell_type": "code",
      "execution_count": null,
      "metadata": {
        "id": "VWdMT8NCtYap"
      },
      "outputs": [],
      "source": [
        "pivot_initial = (results_df.pivot_table(values=['Species'], index=['initial_cluster'], aggfunc='mean'))\n",
        "pivot_initial['label'] = ['Initial' for i in range(pivot_initial.shape[0])]\n",
        "\n",
        "pivot_converged = results_df.pivot_table(values=['Species'], index=['converged_cluster'], aggfunc='mean')\n",
        "pivot_converged['label'] = ['Converged' for i in range(pivot_converged.shape[0])]\n",
        "\n",
        "pivot_df = pd.concat([pivot_initial, pivot_converged], axis=0).reset_index()\n",
        "pivot_df = pivot_df.rename({'index': 'Cluster', 'Species': 'Species name'}, axis=1)\n",
        "results_df['converged_cluster'] = results_df['converged_cluster'].map({1: 1, 2: 2, 0: 3})"
      ]
    },
    {
      "cell_type": "code",
      "execution_count": null,
      "metadata": {
        "id": "PSuUPfxYtpq8"
      },
      "outputs": [],
      "source": [
        "results_df.head()"
      ]
    },
    {
      "cell_type": "code",
      "execution_count": null,
      "metadata": {
        "id": "iYZO0j6uz78B"
      },
      "outputs": [],
      "source": [
        "conditions = [results_df['Species'] == results_df['converged_cluster']]\n",
        "choices = ['True']\n",
        "results_df['true_pred'] = np.select(conditions, choices, default='False')\n",
        "results_df.head()"
      ]
    },
    {
      "cell_type": "code",
      "execution_count": null,
      "metadata": {
        "id": "w0_js_bZ1zZQ"
      },
      "outputs": [],
      "source": [
        "results_df['true_pred'].value_counts('True')"
      ]
    },
    {
      "cell_type": "markdown",
      "metadata": {
        "id": "g6s4aJrs6Yql"
      },
      "source": [
        "\n",
        "\n",
        "---\n",
        "\n",
        "\n",
        "# Principal Component Analysis\n",
        "\n",
        "\n",
        "---\n",
        "\n"
      ]
    },
    {
      "cell_type": "markdown",
      "source": [
        "**For implementing the PCA Algorithm :**\n",
        "\n",
        "> First we standardized our Data so our data is scaled to a comon range, so that our model is not biased towards higher values\n",
        "\n",
        "> Next we create the covariance matrix for our features to check relationships between them\n",
        "\n",
        "> Then we calculate the eigenvectors and eigenvalues for the covariance matrix to compute principal components\n",
        "\n",
        "> We sort the eigenvalues and the corresponding eigenvectors and pick first k eigenvalues\n",
        "\n",
        "> Then we take dot product of our original data with the eigenvectors to get the projections of the data in the direction of our eigenvectors\n",
        "\n",
        "\n",
        "\n",
        "\n",
        "\n",
        "\n",
        "\n",
        "\n",
        "\n"
      ],
      "metadata": {
        "id": "tS9KiF5BqQ_O"
      }
    },
    {
      "cell_type": "code",
      "execution_count": null,
      "metadata": {
        "id": "0KLLqntz6fY7"
      },
      "outputs": [],
      "source": [
        "class PCA(object):\n",
        "  def __init__(self, n_components : int = None):\n",
        "    self.n_components = n_components\n",
        "\n",
        "  def fit_transform(self, X : np.ndarray):\n",
        "    if not self.n_components:\n",
        "      self.n_components = min(X.shape)\n",
        "    self.covariance_ = np.cov(X.T)\n",
        "\n",
        "    # calculate eigen vectors and values\n",
        "    self.eig_vals, self.eig_vecs = np.linalg.eig(self.covariance_)\n",
        "\n",
        "    # explained variance\n",
        "    _tot_eig_vals = sum(self.eig_vals)\n",
        "    self.explained_variance = np.array([(i / _tot_eig_vals) * 100 for i in sorted(self.eig_vals, reverse = True)])\n",
        "    self.cum_explained_variance = np.cumsum(self.explained_variance)\n",
        "\n",
        "    # W = original features x desired features dimension\n",
        "    self.W_ = self.eig_vecs[:, :self.n_components]\n",
        "    print(X.shape, self.W_.shape)\n",
        "    return X.dot(self.W_)"
      ]
    },
    {
      "cell_type": "code",
      "execution_count": null,
      "metadata": {
        "id": "6UsQOojYLRVX"
      },
      "outputs": [],
      "source": [
        "X = idf[['SepalLengthCm', 'SepalWidthCm', 'PetalLengthCm', 'PetalWidthCm']]\n",
        "X = MinMaxScaler().fit_transform(X)\n",
        "y = idf[['Species']]\n",
        "\n",
        "# Calling our PCA Function\n",
        "PCA = PCA()\n",
        "principalComponents = PCA.fit_transform(X)\n",
        "\n",
        "# creating a df for the principalcomponents\n",
        "PCAResult = pd.DataFrame(principalComponents, columns = [f\"PCA-{i}\" for i in range(1, PCA.n_components + 1)])\n",
        "PCAResult[\"target\"] = y \n",
        "\n",
        "plt.subplots(figsize=(10, 6))\n",
        "plt.scatter(x=\"PCA-1\", y=\"PCA-2\", data = PCAResult, cmap = 'copper', c = 'target')\n",
        "plt.show()"
      ]
    },
    {
      "cell_type": "code",
      "source": [
        "PCA.eig_vals"
      ],
      "metadata": {
        "id": "dCmyFmsSUeK0"
      },
      "execution_count": null,
      "outputs": []
    },
    {
      "cell_type": "code",
      "source": [
        "PCA.eig_vecs"
      ],
      "metadata": {
        "id": "zcQG8iaaWcgI"
      },
      "execution_count": null,
      "outputs": []
    }
  ],
  "metadata": {
    "colab": {
      "collapsed_sections": [],
      "name": "FSM_3_KMeans_PCA_Final.ipynb",
      "provenance": [],
      "include_colab_link": true
    },
    "interpreter": {
      "hash": "a0d3c5e4dbf34d03e255832dd4daf115e12e670228debe72a91e0e96f26a1e5c"
    },
    "kernelspec": {
      "display_name": "Python 3.8.13 (conda)",
      "language": "python",
      "name": "python3"
    },
    "language_info": {
      "codemirror_mode": {
        "name": "ipython",
        "version": 3
      },
      "file_extension": ".py",
      "mimetype": "text/x-python",
      "name": "python",
      "nbconvert_exporter": "python",
      "pygments_lexer": "ipython3",
      "version": "3.8.13"
    }
  },
  "nbformat": 4,
  "nbformat_minor": 0
}