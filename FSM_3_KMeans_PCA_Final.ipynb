{
  "cells": [
    {
      "cell_type": "markdown",
      "metadata": {
        "id": "view-in-github",
        "colab_type": "text"
      },
      "source": [
        "<a href=\"https://colab.research.google.com/github/Sshubam/FSM_ML_Assignments/blob/main/FSM_3_KMeans_PCA_Final.ipynb\" target=\"_parent\"><img src=\"https://colab.research.google.com/assets/colab-badge.svg\" alt=\"Open In Colab\"/></a>"
      ]
    },
    {
      "cell_type": "markdown",
      "metadata": {
        "id": "hyLr2a_yv0QS"
      },
      "source": [
        "# K Means Clustering\n"
      ]
    },
    {
      "cell_type": "code",
      "execution_count": null,
      "metadata": {
        "id": "OKhF2VcRbl1G"
      },
      "outputs": [],
      "source": [
        "import pandas as pd\n",
        "import numpy as np\n",
        "import matplotlib.pyplot as plt\n",
        "import matplotlib as mpl\n",
        "mpl.rcParams['figure.facecolor'] = 'white'\n",
        "import seaborn as sns"
      ]
    },
    {
      "cell_type": "code",
      "execution_count": null,
      "metadata": {
        "colab": {
          "base_uri": "https://localhost:8080/",
          "height": 206
        },
        "id": "ZMqDKxfAwhU_",
        "outputId": "e2e9bbbb-9ec6-443b-d00b-58fb9f11d123"
      },
      "outputs": [
        {
          "data": {
            "text/html": [
              "<div>\n",
              "<style scoped>\n",
              "    .dataframe tbody tr th:only-of-type {\n",
              "        vertical-align: middle;\n",
              "    }\n",
              "\n",
              "    .dataframe tbody tr th {\n",
              "        vertical-align: top;\n",
              "    }\n",
              "\n",
              "    .dataframe thead th {\n",
              "        text-align: right;\n",
              "    }\n",
              "</style>\n",
              "<table border=\"1\" class=\"dataframe\">\n",
              "  <thead>\n",
              "    <tr style=\"text-align: right;\">\n",
              "      <th></th>\n",
              "      <th>Id</th>\n",
              "      <th>SepalLengthCm</th>\n",
              "      <th>SepalWidthCm</th>\n",
              "      <th>PetalLengthCm</th>\n",
              "      <th>PetalWidthCm</th>\n",
              "      <th>Species</th>\n",
              "    </tr>\n",
              "  </thead>\n",
              "  <tbody>\n",
              "    <tr>\n",
              "      <th>0</th>\n",
              "      <td>1</td>\n",
              "      <td>5.1</td>\n",
              "      <td>3.5</td>\n",
              "      <td>1.4</td>\n",
              "      <td>0.2</td>\n",
              "      <td>Iris-setosa</td>\n",
              "    </tr>\n",
              "    <tr>\n",
              "      <th>1</th>\n",
              "      <td>2</td>\n",
              "      <td>4.9</td>\n",
              "      <td>3.0</td>\n",
              "      <td>1.4</td>\n",
              "      <td>0.2</td>\n",
              "      <td>Iris-setosa</td>\n",
              "    </tr>\n",
              "    <tr>\n",
              "      <th>2</th>\n",
              "      <td>3</td>\n",
              "      <td>4.7</td>\n",
              "      <td>3.2</td>\n",
              "      <td>1.3</td>\n",
              "      <td>0.2</td>\n",
              "      <td>Iris-setosa</td>\n",
              "    </tr>\n",
              "    <tr>\n",
              "      <th>3</th>\n",
              "      <td>4</td>\n",
              "      <td>4.6</td>\n",
              "      <td>3.1</td>\n",
              "      <td>1.5</td>\n",
              "      <td>0.2</td>\n",
              "      <td>Iris-setosa</td>\n",
              "    </tr>\n",
              "    <tr>\n",
              "      <th>4</th>\n",
              "      <td>5</td>\n",
              "      <td>5.0</td>\n",
              "      <td>3.6</td>\n",
              "      <td>1.4</td>\n",
              "      <td>0.2</td>\n",
              "      <td>Iris-setosa</td>\n",
              "    </tr>\n",
              "  </tbody>\n",
              "</table>\n",
              "</div>"
            ],
            "text/plain": [
              "   Id  SepalLengthCm  SepalWidthCm  PetalLengthCm  PetalWidthCm      Species\n",
              "0   1            5.1           3.5            1.4           0.2  Iris-setosa\n",
              "1   2            4.9           3.0            1.4           0.2  Iris-setosa\n",
              "2   3            4.7           3.2            1.3           0.2  Iris-setosa\n",
              "3   4            4.6           3.1            1.5           0.2  Iris-setosa\n",
              "4   5            5.0           3.6            1.4           0.2  Iris-setosa"
            ]
          },
          "execution_count": 89,
          "metadata": {},
          "output_type": "execute_result"
        }
      ],
      "source": [
        "idf = pd.read_csv(\"/Users/sshubam/Downloads/IrisDataset.csv\")\n",
        "idf.head()"
      ]
    },
    {
      "cell_type": "code",
      "execution_count": null,
      "metadata": {
        "id": "6LkrUYb65Iqt"
      },
      "outputs": [],
      "source": [
        "idf['SepalWidthCm'] = (idf['SepalWidthCm'] - idf['SepalWidthCm'].mean() ) / idf['SepalWidthCm'].std()\n",
        "idf['PetalWidthCm'] = (idf['PetalWidthCm'] - idf['PetalWidthCm'].mean() ) / idf['PetalWidthCm'].std()\n",
        "idf['SepalLengthCm'] = (idf['SepalLengthCm'] - idf['SepalLengthCm'].mean() ) / idf['SepalLengthCm'].std()\n",
        "idf['PetalLengthCm'] = (idf['PetalLengthCm'] - idf['PetalLengthCm'].mean() ) / idf['PetalLengthCm'].std()"
      ]
    },
    {
      "cell_type": "code",
      "execution_count": null,
      "metadata": {
        "id": "MclWgNNoHgJo"
      },
      "outputs": [],
      "source": [
        "idf['Species'] = idf['Species'].map({'Iris-setosa': 1, 'Iris-versicolor' : 2, 'Iris-virginica' : 3})"
      ]
    },
    {
      "cell_type": "code",
      "execution_count": null,
      "metadata": {
        "colab": {
          "base_uri": "https://localhost:8080/",
          "height": 424
        },
        "id": "D0puOG1G6MCj",
        "outputId": "360e7983-a33f-4691-9c91-7d6240bdcd37"
      },
      "outputs": [
        {
          "data": {
            "text/html": [
              "<div>\n",
              "<style scoped>\n",
              "    .dataframe tbody tr th:only-of-type {\n",
              "        vertical-align: middle;\n",
              "    }\n",
              "\n",
              "    .dataframe tbody tr th {\n",
              "        vertical-align: top;\n",
              "    }\n",
              "\n",
              "    .dataframe thead th {\n",
              "        text-align: right;\n",
              "    }\n",
              "</style>\n",
              "<table border=\"1\" class=\"dataframe\">\n",
              "  <thead>\n",
              "    <tr style=\"text-align: right;\">\n",
              "      <th></th>\n",
              "      <th>Id</th>\n",
              "      <th>SepalLengthCm</th>\n",
              "      <th>SepalWidthCm</th>\n",
              "      <th>PetalLengthCm</th>\n",
              "      <th>PetalWidthCm</th>\n",
              "      <th>Species</th>\n",
              "    </tr>\n",
              "  </thead>\n",
              "  <tbody>\n",
              "    <tr>\n",
              "      <th>0</th>\n",
              "      <td>1</td>\n",
              "      <td>-0.897674</td>\n",
              "      <td>1.028611</td>\n",
              "      <td>-1.336794</td>\n",
              "      <td>-1.308593</td>\n",
              "      <td>1</td>\n",
              "    </tr>\n",
              "    <tr>\n",
              "      <th>1</th>\n",
              "      <td>2</td>\n",
              "      <td>-1.139200</td>\n",
              "      <td>-0.124540</td>\n",
              "      <td>-1.336794</td>\n",
              "      <td>-1.308593</td>\n",
              "      <td>1</td>\n",
              "    </tr>\n",
              "    <tr>\n",
              "      <th>2</th>\n",
              "      <td>3</td>\n",
              "      <td>-1.380727</td>\n",
              "      <td>0.336720</td>\n",
              "      <td>-1.393470</td>\n",
              "      <td>-1.308593</td>\n",
              "      <td>1</td>\n",
              "    </tr>\n",
              "    <tr>\n",
              "      <th>3</th>\n",
              "      <td>4</td>\n",
              "      <td>-1.501490</td>\n",
              "      <td>0.106090</td>\n",
              "      <td>-1.280118</td>\n",
              "      <td>-1.308593</td>\n",
              "      <td>1</td>\n",
              "    </tr>\n",
              "    <tr>\n",
              "      <th>4</th>\n",
              "      <td>5</td>\n",
              "      <td>-1.018437</td>\n",
              "      <td>1.259242</td>\n",
              "      <td>-1.336794</td>\n",
              "      <td>-1.308593</td>\n",
              "      <td>1</td>\n",
              "    </tr>\n",
              "    <tr>\n",
              "      <th>...</th>\n",
              "      <td>...</td>\n",
              "      <td>...</td>\n",
              "      <td>...</td>\n",
              "      <td>...</td>\n",
              "      <td>...</td>\n",
              "      <td>...</td>\n",
              "    </tr>\n",
              "    <tr>\n",
              "      <th>145</th>\n",
              "      <td>146</td>\n",
              "      <td>1.034539</td>\n",
              "      <td>-0.124540</td>\n",
              "      <td>0.816888</td>\n",
              "      <td>1.443121</td>\n",
              "      <td>3</td>\n",
              "    </tr>\n",
              "    <tr>\n",
              "      <th>146</th>\n",
              "      <td>147</td>\n",
              "      <td>0.551486</td>\n",
              "      <td>-1.277692</td>\n",
              "      <td>0.703536</td>\n",
              "      <td>0.918985</td>\n",
              "      <td>3</td>\n",
              "    </tr>\n",
              "    <tr>\n",
              "      <th>147</th>\n",
              "      <td>148</td>\n",
              "      <td>0.793012</td>\n",
              "      <td>-0.124540</td>\n",
              "      <td>0.816888</td>\n",
              "      <td>1.050019</td>\n",
              "      <td>3</td>\n",
              "    </tr>\n",
              "    <tr>\n",
              "      <th>148</th>\n",
              "      <td>149</td>\n",
              "      <td>0.430722</td>\n",
              "      <td>0.797981</td>\n",
              "      <td>0.930239</td>\n",
              "      <td>1.443121</td>\n",
              "      <td>3</td>\n",
              "    </tr>\n",
              "    <tr>\n",
              "      <th>149</th>\n",
              "      <td>150</td>\n",
              "      <td>0.068433</td>\n",
              "      <td>-0.124540</td>\n",
              "      <td>0.760212</td>\n",
              "      <td>0.787951</td>\n",
              "      <td>3</td>\n",
              "    </tr>\n",
              "  </tbody>\n",
              "</table>\n",
              "<p>150 rows × 6 columns</p>\n",
              "</div>"
            ],
            "text/plain": [
              "      Id  SepalLengthCm  SepalWidthCm  PetalLengthCm  PetalWidthCm  Species\n",
              "0      1      -0.897674      1.028611      -1.336794     -1.308593        1\n",
              "1      2      -1.139200     -0.124540      -1.336794     -1.308593        1\n",
              "2      3      -1.380727      0.336720      -1.393470     -1.308593        1\n",
              "3      4      -1.501490      0.106090      -1.280118     -1.308593        1\n",
              "4      5      -1.018437      1.259242      -1.336794     -1.308593        1\n",
              "..   ...            ...           ...            ...           ...      ...\n",
              "145  146       1.034539     -0.124540       0.816888      1.443121        3\n",
              "146  147       0.551486     -1.277692       0.703536      0.918985        3\n",
              "147  148       0.793012     -0.124540       0.816888      1.050019        3\n",
              "148  149       0.430722      0.797981       0.930239      1.443121        3\n",
              "149  150       0.068433     -0.124540       0.760212      0.787951        3\n",
              "\n",
              "[150 rows x 6 columns]"
            ]
          },
          "execution_count": 92,
          "metadata": {},
          "output_type": "execute_result"
        }
      ],
      "source": [
        "idf"
      ]
    },
    {
      "cell_type": "code",
      "execution_count": null,
      "metadata": {
        "id": "IEr5bIqTJJMp"
      },
      "outputs": [],
      "source": [
        "# X = np.array(idf.loc[:, idf.columns != 'Species'].values)\n",
        "# y = np.array(idf['Species'].values)"
      ]
    },
    {
      "cell_type": "code",
      "execution_count": null,
      "metadata": {
        "id": "vIA_SecEhShJ"
      },
      "outputs": [],
      "source": [
        "cluster_data = idf[['SepalLengthCm',\t'SepalWidthCm',\t'PetalLengthCm'\t,'PetalWidthCm']].copy(deep=True)\n",
        "cluster_data.dropna(axis=0, inplace=True)\n",
        "cluster_data.sort_values(by=['SepalLengthCm',\t'SepalWidthCm',\t'PetalLengthCm'\t,'PetalWidthCm'], inplace=True)\n",
        "cluster_array = np.array(cluster_data)"
      ]
    },
    {
      "cell_type": "code",
      "execution_count": null,
      "metadata": {
        "id": "UKK-HPHxJb23"
      },
      "outputs": [],
      "source": [
        "def calc_distance(X1, X2):\n",
        "    return (sum((X1 - X2)**2))**0.5"
      ]
    },
    {
      "cell_type": "code",
      "execution_count": null,
      "metadata": {
        "id": "LLXAuoo8hD9Z"
      },
      "outputs": [],
      "source": [
        "# Assign cluster clusters based on closest centroid\n",
        "def assign_clusters(centroids, cluster_array):\n",
        "    clusters = []\n",
        "    for i in range(cluster_array.shape[0]):\n",
        "        distances = []\n",
        "        for centroid in centroids:\n",
        "            distances.append(calc_distance(centroid, \n",
        "                                           cluster_array[i]))\n",
        "        cluster = [z for z, val in enumerate(distances) if val==min(distances)]\n",
        "        clusters.append(cluster[0])\n",
        "    return clusters"
      ]
    },
    {
      "cell_type": "code",
      "execution_count": null,
      "metadata": {
        "id": "JK4ghB_qhF3I"
      },
      "outputs": [],
      "source": [
        "# Calculate new centroids based on each cluster's mean\n",
        "def calc_centroids(clusters, cluster_array):\n",
        "    new_centroids = []\n",
        "    cluster_df = pd.concat([pd.DataFrame(cluster_array),\n",
        "                            pd.DataFrame(clusters, \n",
        "                                         columns=['cluster'])], \n",
        "                           axis=1)\n",
        "    for c in set(cluster_df['cluster']):\n",
        "        current_cluster = cluster_df[cluster_df['cluster']\\\n",
        "                                     ==c][cluster_df.columns[:-1]]\n",
        "        cluster_mean = current_cluster.mean(axis=0)\n",
        "        new_centroids.append(cluster_mean)\n",
        "    return new_centroids\n"
      ]
    },
    {
      "cell_type": "code",
      "execution_count": null,
      "metadata": {
        "id": "WpL3VlHIhIyo"
      },
      "outputs": [],
      "source": [
        "# Calculate variance within each cluster\n",
        "def calc_centroid_variance(clusters, cluster_array):\n",
        "    sum_squares = []\n",
        "    cluster_df = pd.concat([pd.DataFrame(cluster_array),\n",
        "                            pd.DataFrame(clusters, \n",
        "                                         columns=['cluster'])], \n",
        "                           axis=1)\n",
        "    for c in set(cluster_df['cluster']):\n",
        "        current_cluster = cluster_df[cluster_df['cluster']\\\n",
        "                                     ==c][cluster_df.columns[:-1]]\n",
        "        cluster_mean = current_cluster.mean(axis=0)\n",
        "        mean_repmat = np.matlib.repmat(cluster_mean, \n",
        "                                       current_cluster.shape[0],1)\n",
        "        sum_squares.append(np.sum(np.sum((current_cluster - mean_repmat)**2)))\n",
        "    return sum_squares"
      ]
    },
    {
      "cell_type": "code",
      "execution_count": null,
      "metadata": {
        "id": "CHY82Zvrici_"
      },
      "outputs": [],
      "source": [
        "import numpy.matlib"
      ]
    },
    {
      "cell_type": "code",
      "execution_count": null,
      "metadata": {
        "colab": {
          "base_uri": "https://localhost:8080/"
        },
        "id": "kiF_x7zkhLct",
        "outputId": "ade6d27d-86d6-4735-f5f6-a2507ebf3163"
      },
      "outputs": [
        {
          "name": "stdout",
          "output_type": "stream",
          "text": [
            "0 143\n",
            "1 56\n",
            "2 48\n",
            "3 47\n",
            "4 47\n",
            "5 47\n"
          ]
        }
      ],
      "source": [
        "k = 3\n",
        "cluster_vars = []\n",
        "centroids = [cluster_array[i+2] for i in range(k)]\n",
        "clusters = assign_clusters(centroids, cluster_array)\n",
        "initial_clusters = clusters\n",
        "print(0, round(np.mean(calc_centroid_variance(clusters, cluster_array))))\n",
        "for i in range(5):\n",
        "    centroids = calc_centroids(clusters, cluster_array)\n",
        "    clusters = assign_clusters(centroids, cluster_array)\n",
        "    cluster_var = np.mean(calc_centroid_variance(clusters, \n",
        "                                                 cluster_array))\n",
        "    cluster_vars.append(cluster_var)\n",
        "    print(i+1, round(cluster_var))"
      ]
    },
    {
      "cell_type": "code",
      "execution_count": null,
      "metadata": {
        "colab": {
          "base_uri": "https://localhost:8080/",
          "height": 388
        },
        "id": "iCJ1a2Hniuug",
        "outputId": "5cd779cc-b7d3-48fd-82dd-4c4e18dc5172"
      },
      "outputs": [
        {
          "name": "stderr",
          "output_type": "stream",
          "text": [
            "/var/folders/fl/4lrj_nhs3674_ddwctyg604m0000gn/T/ipykernel_55954/327498231.py:5: MatplotlibDeprecationWarning: savefig() got unexpected keyword argument \"bpi\" which is no longer supported as of 3.3 and will become an error in 3.6\n",
            "  plt.savefig('mean_ssd', bpi=150)\n"
          ]
        },
        {
          "data": {
            "image/png": "[encoded data removed]",
            "text/plain": [
              "<Figure size 648x432 with 1 Axes>"
            ]
          },
          "metadata": {},
          "output_type": "display_data"
        }
      ],
      "source": [
        "plt.subplots(figsize=(9,6))\n",
        "plt.plot(cluster_vars)\n",
        "plt.xlabel('Iterations')\n",
        "plt.ylabel('Mean Sum of Squared Deviations');\n",
        "plt.savefig('mean_ssd', bpi=150)"
      ]
    },
    {
      "cell_type": "code",
      "execution_count": null,
      "metadata": {
        "colab": {
          "base_uri": "https://localhost:8080/",
          "height": 374
        },
        "id": "kAAWVRGL4-98",
        "outputId": "8232115f-ba99-46d7-8023-6b083c6d7f32"
      },
      "outputs": [
        {
          "name": "stderr",
          "output_type": "stream",
          "text": [
            "/var/folders/fl/4lrj_nhs3674_ddwctyg604m0000gn/T/ipykernel_55954/271941416.py:5: MatplotlibDeprecationWarning: savefig() got unexpected keyword argument \"bpi\" which is no longer supported as of 3.3 and will become an error in 3.6\n",
            "  plt.savefig('initial_clusters', bpi=150)\n"
          ]
        },
        {
          "data": {
            "image/png": "[encoded data removed]",
            "text/plain": [
              "<Figure size 648x432 with 1 Axes>"
            ]
          },
          "metadata": {},
          "output_type": "display_data"
        }
      ],
      "source": [
        "plt.subplots(figsize=(9,6))\n",
        "plt.scatter(x=cluster_array[:,0], y=cluster_array[:,1], \n",
        "            c=initial_clusters, cmap=plt.cm.Spectral);\n",
        "\n",
        "plt.savefig('initial_clusters', bpi=150)"
      ]
    },
    {
      "cell_type": "code",
      "execution_count": null,
      "metadata": {
        "colab": {
          "base_uri": "https://localhost:8080/",
          "height": 390
        },
        "id": "dcVICKtAiyFg",
        "outputId": "9770d7ba-7eb7-473c-bf79-37ac4e198c4c"
      },
      "outputs": [
        {
          "name": "stderr",
          "output_type": "stream",
          "text": [
            "/var/folders/fl/4lrj_nhs3674_ddwctyg604m0000gn/T/ipykernel_55954/1255576074.py:4: MatplotlibDeprecationWarning: savefig() got unexpected keyword argument \"bpi\" which is no longer supported as of 3.3 and will become an error in 3.6\n",
            "  plt.savefig('converged_cluster', bpi=150)\n"
          ]
        },
        {
          "data": {
            "image/png": "[encoded data removed]",
            "text/plain": [
              "<Figure size 648x432 with 1 Axes>"
            ]
          },
          "metadata": {},
          "output_type": "display_data"
        }
      ],
      "source": [
        "plt.subplots(figsize=(9,6))\n",
        "plt.scatter(x=cluster_array[:,0], y=cluster_array[:,1], \n",
        "            c=clusters, cmap=plt.cm.Spectral);\n",
        "plt.savefig('converged_cluster', bpi=150)\n",
        "plt.title(\"final cluster\")\n",
        "plt.show()"
      ]
    },
    {
      "cell_type": "code",
      "execution_count": null,
      "metadata": {
        "id": "Bw45Lbk1qs-7"
      },
      "outputs": [],
      "source": [
        "results_df = cluster_data.join(idf[['Species']], \n",
        "                               how='left').reset_index(drop=True)\n",
        "results_df = pd.concat([results_df, pd.DataFrame(initial_clusters, columns=['initial_cluster']), pd.DataFrame(clusters, columns=['converged_cluster'])], axis=1)"
      ]
    },
    {
      "cell_type": "code",
      "execution_count": null,
      "metadata": {
        "colab": {
          "base_uri": "https://localhost:8080/",
          "height": 424
        },
        "id": "VcFvLx0yqs2D",
        "outputId": "5615ad32-5437-47dc-e2ea-e4dc13c8f1a0"
      },
      "outputs": [
        {
          "data": {
            "text/html": [
              "<div>\n",
              "<style scoped>\n",
              "    .dataframe tbody tr th:only-of-type {\n",
              "        vertical-align: middle;\n",
              "    }\n",
              "\n",
              "    .dataframe tbody tr th {\n",
              "        vertical-align: top;\n",
              "    }\n",
              "\n",
              "    .dataframe thead th {\n",
              "        text-align: right;\n",
              "    }\n",
              "</style>\n",
              "<table border=\"1\" class=\"dataframe\">\n",
              "  <thead>\n",
              "    <tr style=\"text-align: right;\">\n",
              "      <th></th>\n",
              "      <th>SepalLengthCm</th>\n",
              "      <th>SepalWidthCm</th>\n",
              "      <th>PetalLengthCm</th>\n",
              "      <th>PetalWidthCm</th>\n",
              "      <th>Species</th>\n",
              "      <th>initial_cluster</th>\n",
              "      <th>converged_cluster</th>\n",
              "    </tr>\n",
              "  </thead>\n",
              "  <tbody>\n",
              "    <tr>\n",
              "      <th>0</th>\n",
              "      <td>-1.863780</td>\n",
              "      <td>-0.124540</td>\n",
              "      <td>-1.506822</td>\n",
              "      <td>-1.439627</td>\n",
              "      <td>1</td>\n",
              "      <td>0</td>\n",
              "      <td>1</td>\n",
              "    </tr>\n",
              "    <tr>\n",
              "      <th>1</th>\n",
              "      <td>-1.743017</td>\n",
              "      <td>-0.355171</td>\n",
              "      <td>-1.336794</td>\n",
              "      <td>-1.308593</td>\n",
              "      <td>1</td>\n",
              "      <td>0</td>\n",
              "      <td>1</td>\n",
              "    </tr>\n",
              "    <tr>\n",
              "      <th>2</th>\n",
              "      <td>-1.743017</td>\n",
              "      <td>-0.124540</td>\n",
              "      <td>-1.393470</td>\n",
              "      <td>-1.308593</td>\n",
              "      <td>1</td>\n",
              "      <td>0</td>\n",
              "      <td>1</td>\n",
              "    </tr>\n",
              "    <tr>\n",
              "      <th>3</th>\n",
              "      <td>-1.743017</td>\n",
              "      <td>0.336720</td>\n",
              "      <td>-1.393470</td>\n",
              "      <td>-1.308593</td>\n",
              "      <td>1</td>\n",
              "      <td>1</td>\n",
              "      <td>1</td>\n",
              "    </tr>\n",
              "    <tr>\n",
              "      <th>4</th>\n",
              "      <td>-1.622254</td>\n",
              "      <td>-1.738953</td>\n",
              "      <td>-1.393470</td>\n",
              "      <td>-1.177559</td>\n",
              "      <td>1</td>\n",
              "      <td>2</td>\n",
              "      <td>1</td>\n",
              "    </tr>\n",
              "    <tr>\n",
              "      <th>...</th>\n",
              "      <td>...</td>\n",
              "      <td>...</td>\n",
              "      <td>...</td>\n",
              "      <td>...</td>\n",
              "      <td>...</td>\n",
              "      <td>...</td>\n",
              "      <td>...</td>\n",
              "    </tr>\n",
              "    <tr>\n",
              "      <th>145</th>\n",
              "      <td>2.242172</td>\n",
              "      <td>-1.047062</td>\n",
              "      <td>1.780377</td>\n",
              "      <td>1.443121</td>\n",
              "      <td>3</td>\n",
              "      <td>2</td>\n",
              "      <td>0</td>\n",
              "    </tr>\n",
              "    <tr>\n",
              "      <th>146</th>\n",
              "      <td>2.242172</td>\n",
              "      <td>-0.585801</td>\n",
              "      <td>1.667025</td>\n",
              "      <td>1.050019</td>\n",
              "      <td>3</td>\n",
              "      <td>2</td>\n",
              "      <td>0</td>\n",
              "    </tr>\n",
              "    <tr>\n",
              "      <th>147</th>\n",
              "      <td>2.242172</td>\n",
              "      <td>-0.124540</td>\n",
              "      <td>1.326970</td>\n",
              "      <td>1.443121</td>\n",
              "      <td>3</td>\n",
              "      <td>0</td>\n",
              "      <td>0</td>\n",
              "    </tr>\n",
              "    <tr>\n",
              "      <th>148</th>\n",
              "      <td>2.242172</td>\n",
              "      <td>1.720502</td>\n",
              "      <td>1.667025</td>\n",
              "      <td>1.312087</td>\n",
              "      <td>3</td>\n",
              "      <td>1</td>\n",
              "      <td>0</td>\n",
              "    </tr>\n",
              "    <tr>\n",
              "      <th>149</th>\n",
              "      <td>2.483699</td>\n",
              "      <td>1.720502</td>\n",
              "      <td>1.496998</td>\n",
              "      <td>1.050019</td>\n",
              "      <td>3</td>\n",
              "      <td>1</td>\n",
              "      <td>0</td>\n",
              "    </tr>\n",
              "  </tbody>\n",
              "</table>\n",
              "<p>150 rows × 7 columns</p>\n",
              "</div>"
            ],
            "text/plain": [
              "     SepalLengthCm  SepalWidthCm  PetalLengthCm  PetalWidthCm  Species  \\\n",
              "0        -1.863780     -0.124540      -1.506822     -1.439627        1   \n",
              "1        -1.743017     -0.355171      -1.336794     -1.308593        1   \n",
              "2        -1.743017     -0.124540      -1.393470     -1.308593        1   \n",
              "3        -1.743017      0.336720      -1.393470     -1.308593        1   \n",
              "4        -1.622254     -1.738953      -1.393470     -1.177559        1   \n",
              "..             ...           ...            ...           ...      ...   \n",
              "145       2.242172     -1.047062       1.780377      1.443121        3   \n",
              "146       2.242172     -0.585801       1.667025      1.050019        3   \n",
              "147       2.242172     -0.124540       1.326970      1.443121        3   \n",
              "148       2.242172      1.720502       1.667025      1.312087        3   \n",
              "149       2.483699      1.720502       1.496998      1.050019        3   \n",
              "\n",
              "     initial_cluster  converged_cluster  \n",
              "0                  0                  1  \n",
              "1                  0                  1  \n",
              "2                  0                  1  \n",
              "3                  1                  1  \n",
              "4                  2                  1  \n",
              "..               ...                ...  \n",
              "145                2                  0  \n",
              "146                2                  0  \n",
              "147                0                  0  \n",
              "148                1                  0  \n",
              "149                1                  0  \n",
              "\n",
              "[150 rows x 7 columns]"
            ]
          },
          "execution_count": 105,
          "metadata": {},
          "output_type": "execute_result"
        }
      ],
      "source": [
        "results_df"
      ]
    },
    {
      "cell_type": "code",
      "execution_count": null,
      "metadata": {
        "id": "VWdMT8NCtYap"
      },
      "outputs": [],
      "source": [
        "pivot_initial = (results_df.pivot_table(values=['Species'], \n",
        "                                        index=['initial_cluster'],\n",
        "                                        aggfunc='mean'))\n",
        "pivot_initial['label'] = ['Initial' for i in range(pivot_initial.shape[0])]\n",
        "\n",
        "pivot_converged = results_df.pivot_table(values=['Species'], \n",
        "                                         index=['converged_cluster'],\n",
        "                                         aggfunc='mean')\n",
        "pivot_converged['label'] = ['Converged' for i in range(pivot_converged.shape[0])]\n",
        "\n",
        "pivot_df = pd.concat([pivot_initial, pivot_converged], axis=0).reset_index()\n",
        "pivot_df = pivot_df.rename({'index': 'Cluster',\n",
        "                            'Species': 'Species name'}, axis=1)\n",
        "results_df['converged_cluster'] = results_df['converged_cluster'].map({1: 1, 2: 2, 0: 3})"
      ]
    },
    {
      "cell_type": "code",
      "execution_count": null,
      "metadata": {
        "colab": {
          "base_uri": "https://localhost:8080/",
          "height": 424
        },
        "id": "PSuUPfxYtpq8",
        "outputId": "9b18eb9b-6e2c-44e2-911e-a72da8e72a5e"
      },
      "outputs": [
        {
          "data": {
            "text/html": [
              "<div>\n",
              "<style scoped>\n",
              "    .dataframe tbody tr th:only-of-type {\n",
              "        vertical-align: middle;\n",
              "    }\n",
              "\n",
              "    .dataframe tbody tr th {\n",
              "        vertical-align: top;\n",
              "    }\n",
              "\n",
              "    .dataframe thead th {\n",
              "        text-align: right;\n",
              "    }\n",
              "</style>\n",
              "<table border=\"1\" class=\"dataframe\">\n",
              "  <thead>\n",
              "    <tr style=\"text-align: right;\">\n",
              "      <th></th>\n",
              "      <th>SepalLengthCm</th>\n",
              "      <th>SepalWidthCm</th>\n",
              "      <th>PetalLengthCm</th>\n",
              "      <th>PetalWidthCm</th>\n",
              "      <th>Species</th>\n",
              "      <th>initial_cluster</th>\n",
              "      <th>converged_cluster</th>\n",
              "    </tr>\n",
              "  </thead>\n",
              "  <tbody>\n",
              "    <tr>\n",
              "      <th>0</th>\n",
              "      <td>-1.863780</td>\n",
              "      <td>-0.124540</td>\n",
              "      <td>-1.506822</td>\n",
              "      <td>-1.439627</td>\n",
              "      <td>1</td>\n",
              "      <td>0</td>\n",
              "      <td>1</td>\n",
              "    </tr>\n",
              "    <tr>\n",
              "      <th>1</th>\n",
              "      <td>-1.743017</td>\n",
              "      <td>-0.355171</td>\n",
              "      <td>-1.336794</td>\n",
              "      <td>-1.308593</td>\n",
              "      <td>1</td>\n",
              "      <td>0</td>\n",
              "      <td>1</td>\n",
              "    </tr>\n",
              "    <tr>\n",
              "      <th>2</th>\n",
              "      <td>-1.743017</td>\n",
              "      <td>-0.124540</td>\n",
              "      <td>-1.393470</td>\n",
              "      <td>-1.308593</td>\n",
              "      <td>1</td>\n",
              "      <td>0</td>\n",
              "      <td>1</td>\n",
              "    </tr>\n",
              "    <tr>\n",
              "      <th>3</th>\n",
              "      <td>-1.743017</td>\n",
              "      <td>0.336720</td>\n",
              "      <td>-1.393470</td>\n",
              "      <td>-1.308593</td>\n",
              "      <td>1</td>\n",
              "      <td>1</td>\n",
              "      <td>1</td>\n",
              "    </tr>\n",
              "    <tr>\n",
              "      <th>4</th>\n",
              "      <td>-1.622254</td>\n",
              "      <td>-1.738953</td>\n",
              "      <td>-1.393470</td>\n",
              "      <td>-1.177559</td>\n",
              "      <td>1</td>\n",
              "      <td>2</td>\n",
              "      <td>1</td>\n",
              "    </tr>\n",
              "    <tr>\n",
              "      <th>...</th>\n",
              "      <td>...</td>\n",
              "      <td>...</td>\n",
              "      <td>...</td>\n",
              "      <td>...</td>\n",
              "      <td>...</td>\n",
              "      <td>...</td>\n",
              "      <td>...</td>\n",
              "    </tr>\n",
              "    <tr>\n",
              "      <th>145</th>\n",
              "      <td>2.242172</td>\n",
              "      <td>-1.047062</td>\n",
              "      <td>1.780377</td>\n",
              "      <td>1.443121</td>\n",
              "      <td>3</td>\n",
              "      <td>2</td>\n",
              "      <td>3</td>\n",
              "    </tr>\n",
              "    <tr>\n",
              "      <th>146</th>\n",
              "      <td>2.242172</td>\n",
              "      <td>-0.585801</td>\n",
              "      <td>1.667025</td>\n",
              "      <td>1.050019</td>\n",
              "      <td>3</td>\n",
              "      <td>2</td>\n",
              "      <td>3</td>\n",
              "    </tr>\n",
              "    <tr>\n",
              "      <th>147</th>\n",
              "      <td>2.242172</td>\n",
              "      <td>-0.124540</td>\n",
              "      <td>1.326970</td>\n",
              "      <td>1.443121</td>\n",
              "      <td>3</td>\n",
              "      <td>0</td>\n",
              "      <td>3</td>\n",
              "    </tr>\n",
              "    <tr>\n",
              "      <th>148</th>\n",
              "      <td>2.242172</td>\n",
              "      <td>1.720502</td>\n",
              "      <td>1.667025</td>\n",
              "      <td>1.312087</td>\n",
              "      <td>3</td>\n",
              "      <td>1</td>\n",
              "      <td>3</td>\n",
              "    </tr>\n",
              "    <tr>\n",
              "      <th>149</th>\n",
              "      <td>2.483699</td>\n",
              "      <td>1.720502</td>\n",
              "      <td>1.496998</td>\n",
              "      <td>1.050019</td>\n",
              "      <td>3</td>\n",
              "      <td>1</td>\n",
              "      <td>3</td>\n",
              "    </tr>\n",
              "  </tbody>\n",
              "</table>\n",
              "<p>150 rows × 7 columns</p>\n",
              "</div>"
            ],
            "text/plain": [
              "     SepalLengthCm  SepalWidthCm  PetalLengthCm  PetalWidthCm  Species  \\\n",
              "0        -1.863780     -0.124540      -1.506822     -1.439627        1   \n",
              "1        -1.743017     -0.355171      -1.336794     -1.308593        1   \n",
              "2        -1.743017     -0.124540      -1.393470     -1.308593        1   \n",
              "3        -1.743017      0.336720      -1.393470     -1.308593        1   \n",
              "4        -1.622254     -1.738953      -1.393470     -1.177559        1   \n",
              "..             ...           ...            ...           ...      ...   \n",
              "145       2.242172     -1.047062       1.780377      1.443121        3   \n",
              "146       2.242172     -0.585801       1.667025      1.050019        3   \n",
              "147       2.242172     -0.124540       1.326970      1.443121        3   \n",
              "148       2.242172      1.720502       1.667025      1.312087        3   \n",
              "149       2.483699      1.720502       1.496998      1.050019        3   \n",
              "\n",
              "     initial_cluster  converged_cluster  \n",
              "0                  0                  1  \n",
              "1                  0                  1  \n",
              "2                  0                  1  \n",
              "3                  1                  1  \n",
              "4                  2                  1  \n",
              "..               ...                ...  \n",
              "145                2                  3  \n",
              "146                2                  3  \n",
              "147                0                  3  \n",
              "148                1                  3  \n",
              "149                1                  3  \n",
              "\n",
              "[150 rows x 7 columns]"
            ]
          },
          "execution_count": 107,
          "metadata": {},
          "output_type": "execute_result"
        }
      ],
      "source": [
        "results_df"
      ]
    },
    {
      "cell_type": "code",
      "execution_count": null,
      "metadata": {
        "colab": {
          "base_uri": "https://localhost:8080/",
          "height": 424
        },
        "id": "iYZO0j6uz78B",
        "outputId": "3780ec23-367a-4c72-8f04-0e2c2c9b79b9"
      },
      "outputs": [
        {
          "data": {
            "text/html": [
              "<div>\n",
              "<style scoped>\n",
              "    .dataframe tbody tr th:only-of-type {\n",
              "        vertical-align: middle;\n",
              "    }\n",
              "\n",
              "    .dataframe tbody tr th {\n",
              "        vertical-align: top;\n",
              "    }\n",
              "\n",
              "    .dataframe thead th {\n",
              "        text-align: right;\n",
              "    }\n",
              "</style>\n",
              "<table border=\"1\" class=\"dataframe\">\n",
              "  <thead>\n",
              "    <tr style=\"text-align: right;\">\n",
              "      <th></th>\n",
              "      <th>SepalLengthCm</th>\n",
              "      <th>SepalWidthCm</th>\n",
              "      <th>PetalLengthCm</th>\n",
              "      <th>PetalWidthCm</th>\n",
              "      <th>Species</th>\n",
              "      <th>initial_cluster</th>\n",
              "      <th>converged_cluster</th>\n",
              "      <th>true_pred</th>\n",
              "    </tr>\n",
              "  </thead>\n",
              "  <tbody>\n",
              "    <tr>\n",
              "      <th>0</th>\n",
              "      <td>-1.863780</td>\n",
              "      <td>-0.124540</td>\n",
              "      <td>-1.506822</td>\n",
              "      <td>-1.439627</td>\n",
              "      <td>1</td>\n",
              "      <td>0</td>\n",
              "      <td>1</td>\n",
              "      <td>True</td>\n",
              "    </tr>\n",
              "    <tr>\n",
              "      <th>1</th>\n",
              "      <td>-1.743017</td>\n",
              "      <td>-0.355171</td>\n",
              "      <td>-1.336794</td>\n",
              "      <td>-1.308593</td>\n",
              "      <td>1</td>\n",
              "      <td>0</td>\n",
              "      <td>1</td>\n",
              "      <td>True</td>\n",
              "    </tr>\n",
              "    <tr>\n",
              "      <th>2</th>\n",
              "      <td>-1.743017</td>\n",
              "      <td>-0.124540</td>\n",
              "      <td>-1.393470</td>\n",
              "      <td>-1.308593</td>\n",
              "      <td>1</td>\n",
              "      <td>0</td>\n",
              "      <td>1</td>\n",
              "      <td>True</td>\n",
              "    </tr>\n",
              "    <tr>\n",
              "      <th>3</th>\n",
              "      <td>-1.743017</td>\n",
              "      <td>0.336720</td>\n",
              "      <td>-1.393470</td>\n",
              "      <td>-1.308593</td>\n",
              "      <td>1</td>\n",
              "      <td>1</td>\n",
              "      <td>1</td>\n",
              "      <td>True</td>\n",
              "    </tr>\n",
              "    <tr>\n",
              "      <th>4</th>\n",
              "      <td>-1.622254</td>\n",
              "      <td>-1.738953</td>\n",
              "      <td>-1.393470</td>\n",
              "      <td>-1.177559</td>\n",
              "      <td>1</td>\n",
              "      <td>2</td>\n",
              "      <td>1</td>\n",
              "      <td>True</td>\n",
              "    </tr>\n",
              "    <tr>\n",
              "      <th>...</th>\n",
              "      <td>...</td>\n",
              "      <td>...</td>\n",
              "      <td>...</td>\n",
              "      <td>...</td>\n",
              "      <td>...</td>\n",
              "      <td>...</td>\n",
              "      <td>...</td>\n",
              "      <td>...</td>\n",
              "    </tr>\n",
              "    <tr>\n",
              "      <th>145</th>\n",
              "      <td>2.242172</td>\n",
              "      <td>-1.047062</td>\n",
              "      <td>1.780377</td>\n",
              "      <td>1.443121</td>\n",
              "      <td>3</td>\n",
              "      <td>2</td>\n",
              "      <td>3</td>\n",
              "      <td>True</td>\n",
              "    </tr>\n",
              "    <tr>\n",
              "      <th>146</th>\n",
              "      <td>2.242172</td>\n",
              "      <td>-0.585801</td>\n",
              "      <td>1.667025</td>\n",
              "      <td>1.050019</td>\n",
              "      <td>3</td>\n",
              "      <td>2</td>\n",
              "      <td>3</td>\n",
              "      <td>True</td>\n",
              "    </tr>\n",
              "    <tr>\n",
              "      <th>147</th>\n",
              "      <td>2.242172</td>\n",
              "      <td>-0.124540</td>\n",
              "      <td>1.326970</td>\n",
              "      <td>1.443121</td>\n",
              "      <td>3</td>\n",
              "      <td>0</td>\n",
              "      <td>3</td>\n",
              "      <td>True</td>\n",
              "    </tr>\n",
              "    <tr>\n",
              "      <th>148</th>\n",
              "      <td>2.242172</td>\n",
              "      <td>1.720502</td>\n",
              "      <td>1.667025</td>\n",
              "      <td>1.312087</td>\n",
              "      <td>3</td>\n",
              "      <td>1</td>\n",
              "      <td>3</td>\n",
              "      <td>True</td>\n",
              "    </tr>\n",
              "    <tr>\n",
              "      <th>149</th>\n",
              "      <td>2.483699</td>\n",
              "      <td>1.720502</td>\n",
              "      <td>1.496998</td>\n",
              "      <td>1.050019</td>\n",
              "      <td>3</td>\n",
              "      <td>1</td>\n",
              "      <td>3</td>\n",
              "      <td>True</td>\n",
              "    </tr>\n",
              "  </tbody>\n",
              "</table>\n",
              "<p>150 rows × 8 columns</p>\n",
              "</div>"
            ],
            "text/plain": [
              "     SepalLengthCm  SepalWidthCm  PetalLengthCm  PetalWidthCm  Species  \\\n",
              "0        -1.863780     -0.124540      -1.506822     -1.439627        1   \n",
              "1        -1.743017     -0.355171      -1.336794     -1.308593        1   \n",
              "2        -1.743017     -0.124540      -1.393470     -1.308593        1   \n",
              "3        -1.743017      0.336720      -1.393470     -1.308593        1   \n",
              "4        -1.622254     -1.738953      -1.393470     -1.177559        1   \n",
              "..             ...           ...            ...           ...      ...   \n",
              "145       2.242172     -1.047062       1.780377      1.443121        3   \n",
              "146       2.242172     -0.585801       1.667025      1.050019        3   \n",
              "147       2.242172     -0.124540       1.326970      1.443121        3   \n",
              "148       2.242172      1.720502       1.667025      1.312087        3   \n",
              "149       2.483699      1.720502       1.496998      1.050019        3   \n",
              "\n",
              "     initial_cluster  converged_cluster true_pred  \n",
              "0                  0                  1      True  \n",
              "1                  0                  1      True  \n",
              "2                  0                  1      True  \n",
              "3                  1                  1      True  \n",
              "4                  2                  1      True  \n",
              "..               ...                ...       ...  \n",
              "145                2                  3      True  \n",
              "146                2                  3      True  \n",
              "147                0                  3      True  \n",
              "148                1                  3      True  \n",
              "149                1                  3      True  \n",
              "\n",
              "[150 rows x 8 columns]"
            ]
          },
          "execution_count": 108,
          "metadata": {},
          "output_type": "execute_result"
        }
      ],
      "source": [
        "conditions = [results_df['Species'] == results_df['converged_cluster']]\n",
        "\n",
        "#define choices\n",
        "choices = ['True']\n",
        "\n",
        "#create new column in DataFrame that displays results of comparisons\n",
        "results_df['true_pred'] = np.select(conditions, choices, default='False')\n",
        "\n",
        "#view the DataFrame\n",
        "results_df"
      ]
    },
    {
      "cell_type": "code",
      "execution_count": null,
      "metadata": {
        "colab": {
          "base_uri": "https://localhost:8080/"
        },
        "id": "w0_js_bZ1zZQ",
        "outputId": "c02278f6-670b-4e0f-f203-447ca20b93e4"
      },
      "outputs": [
        {
          "data": {
            "text/plain": [
              "True     0.846667\n",
              "False    0.153333\n",
              "Name: true_pred, dtype: float64"
            ]
          },
          "execution_count": 109,
          "metadata": {},
          "output_type": "execute_result"
        }
      ],
      "source": [
        "results_df['true_pred'].value_counts('True')"
      ]
    },
    {
      "cell_type": "markdown",
      "metadata": {
        "id": "g6s4aJrs6Yql"
      },
      "source": [
        "# PCA"
      ]
    },
    {
      "cell_type": "code",
      "execution_count": null,
      "metadata": {
        "id": "0KLLqntz6fY7"
      },
      "outputs": [],
      "source": [
        "import numpy as np\n",
        "\n",
        "class PCA(object):\n",
        "    \"\"\"Dimension Reduction using Principal Component Analysis (PCA)\n",
        "\n",
        "    It is the procces of computing principal components which explains the\n",
        "    maximum variation of the dataset using fewer components.\n",
        "\n",
        "    :type  n_components: int, optional\n",
        "    :param n_components: Number of components to consider, if not set then\n",
        "                         `n_components = min(n_samples, n_features)`, where\n",
        "                         `n_samples` is the number of samples, and\n",
        "                         `n_features` is the number of features (i.e.,\n",
        "                         dimension of the dataset).\n",
        "\n",
        "    Attributes\n",
        "    ==========\n",
        "        :type  covariance_: np.ndarray\n",
        "        :param covariance_: Coviarance Matrix\n",
        "\n",
        "        :type  eig_vals_: np.ndarray\n",
        "        :param eig_vals_: Calculated Eigen Values\n",
        "\n",
        "        :type  eig_vecs_: np.ndarray\n",
        "        :param eig_vecs_: Calculated Eigen Vectors\n",
        "\n",
        "        :type  explained_variance_: np.ndarray\n",
        "        :param explained_variance_: Explained Variance of Each Principal Components\n",
        "\n",
        "        :type  cum_explained_variance_: np.ndarray\n",
        "        :param cum_explained_variance_: Cumulative Explained Variables\n",
        "    \"\"\"\n",
        "\n",
        "    def __init__(self, n_components : int = None):\n",
        "        \"\"\"Default Constructor for Initialization\"\"\"\n",
        "\n",
        "        self.n_components = n_components\n",
        "\n",
        "    def fit_transform(self, X : np.ndarray):\n",
        "        \"\"\"Fit the PCA algorithm into the Dataset\"\"\"\n",
        "\n",
        "        if not self.n_components:\n",
        "            self.n_components = min(X.shape)\n",
        "\n",
        "        self.covariance_ = np.cov(X.T)\n",
        "\n",
        "        # calculate eigens\n",
        "        self.eig_vals_, self.eig_vecs_ = np.linalg.eig(self.covariance_)\n",
        "\n",
        "        # explained variance\n",
        "        _tot_eig_vals = sum(self.eig_vals_)\n",
        "        self.explained_variance_ = np.array([(i / _tot_eig_vals) * 100 for i in sorted(self.eig_vals_, reverse = True)])\n",
        "        self.cum_explained_variance_ = np.cumsum(self.explained_variance_)\n",
        "\n",
        "        # define `W` as `d x k`-dimension\n",
        "        self.W_ = self.eig_vecs_[:, :self.n_components]\n",
        "\n",
        "        print(X.shape, self.W_.shape)\n",
        "        return X.dot(self.W_)"
      ]
    },
    {
      "cell_type": "code",
      "execution_count": null,
      "metadata": {
        "colab": {
          "base_uri": "https://localhost:8080/",
          "height": 283
        },
        "id": "6UsQOojYLRVX",
        "outputId": "902a3afe-5577-4e55-ce7a-e41b834c4c5a"
      },
      "outputs": [
        {
          "name": "stdout",
          "output_type": "stream",
          "text": [
            "(150, 4) (4, 4)\n"
          ]
        },
        {
          "data": {
            "image/png": "[encoded data removed]",
            "text/plain": [
              "<Figure size 432x288 with 1 Axes>"
            ]
          },
          "metadata": {},
          "output_type": "display_data"
        }
      ],
      "source": [
        "from sklearn.preprocessing import MinMaxScaler\n",
        "# X, y = iris.data, iris.target\n",
        "X = idf[['SepalLengthCm', 'SepalWidthCm','PetalLengthCm','PetalWidthCm']]\n",
        "y = idf[['Species']]\n",
        "X = MinMaxScaler().fit_transform(X)\n",
        "\n",
        "# using the PCA function (defined above)\n",
        "# to fit_transform the X value\n",
        "# naming the PCA object as dPCA (d = defined)\n",
        "PCA = PCA()\n",
        "principalComponents = PCA.fit_transform(X)\n",
        "\n",
        "# creating a pandas dataframe for the principal components\n",
        "# and visualize the data using scatter plot\n",
        "PCAResult = pd.DataFrame(principalComponents, columns = [f\"PCA-{i}\" for i in range(1, PCA.n_components + 1)])\n",
        "PCAResult[\"target\"] = y # possible as original order does not change\n",
        "\n",
        "sns.scatterplot(x = \"PCA-1\", y = \"PCA-2\", data = PCAResult, hue = \"target\", s = 50)\n",
        "# plt.scatter(x=\"PCA-1\", y=\"PCA-2\", data = PCAResult,color=['red','green','blue'] );\n",
        "plt.show()"
      ]
    },
    {
      "cell_type": "code",
      "execution_count": null,
      "metadata": {
        "id": "BLhHyt0mbl1O"
      },
      "outputs": [],
      "source": [
        "#========================================================================================"
      ]
    },
    {
      "cell_type": "code",
      "execution_count": null,
      "metadata": {
        "id": "xY-8TOeEbl1O"
      },
      "outputs": [],
      "source": [
        ""
      ]
    }
  ],
  "metadata": {
    "colab": {
      "collapsed_sections": [
        "YxlpcHX6Bt8X"
      ],
      "name": "FSM_3_KMeans_PCA_Final.ipynb",
      "provenance": [],
      "include_colab_link": true
    },
    "interpreter": {
      "hash": "a0d3c5e4dbf34d03e255832dd4daf115e12e670228debe72a91e0e96f26a1e5c"
    },
    "kernelspec": {
      "display_name": "Python 3.8.13 (conda)",
      "language": "python",
      "name": "python3"
    },
    "language_info": {
      "codemirror_mode": {
        "name": "ipython",
        "version": 3
      },
      "file_extension": ".py",
      "mimetype": "text/x-python",
      "name": "python",
      "nbconvert_exporter": "python",
      "pygments_lexer": "ipython3",
      "version": "3.8.13"
    }
  },
  "nbformat": 4,
  "nbformat_minor": 0
}