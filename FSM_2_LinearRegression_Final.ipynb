{
  "cells": [
    {
      "cell_type": "markdown",
      "metadata": {
        "id": "view-in-github",
        "colab_type": "text"
      },
      "source": [
        "<a href=\"https://colab.research.google.com/github/Sshubam/FSM_ML_Assignments/blob/main/FSM_2_LinearRegression_Final.ipynb\" target=\"_parent\"><img src=\"https://colab.research.google.com/assets/colab-badge.svg\" alt=\"Open In Colab\"/></a>"
      ]
    },
    {
      "cell_type": "markdown",
      "source": [
        "\n",
        "\n",
        "---\n",
        "\n",
        "\n",
        "# Loading our Data\n",
        "\n",
        "\n",
        "---\n",
        "\n"
      ],
      "metadata": {
        "id": "CvD_gbHpm6WO"
      }
    },
    {
      "cell_type": "code",
      "execution_count": 1,
      "metadata": {
        "id": "XR4C_8diemNf"
      },
      "outputs": [],
      "source": [
        "import numpy as np\n",
        "import pandas as pd\n",
        "import matplotlib as mpl\n",
        "import matplotlib.pyplot as plt"
      ]
    },
    {
      "cell_type": "code",
      "execution_count": 2,
      "metadata": {
        "colab": {
          "base_uri": "https://localhost:8080/",
          "height": 206
        },
        "id": "I_JrbrzXPRKe",
        "outputId": "0789c4cf-5932-4170-e8b2-2e8b39ade13c"
      },
      "outputs": [
        {
          "output_type": "execute_result",
          "data": {
            "text/plain": [
              "   age     sex     bmi  children smoker     region      charges\n",
              "0   19  female  27.900         0    yes  southwest  16884.92400\n",
              "1   18    male  33.770         1     no  southeast   1725.55230\n",
              "2   28    male  33.000         3     no  southeast   4449.46200\n",
              "3   33    male  22.705         0     no  northwest  21984.47061\n",
              "4   32    male  28.880         0     no  northwest   3866.85520"
            ],
            "text/html": [
              "\n",
              "  <div id=\"df-35467dc8-ffe3-482f-a6c8-0588ba916c68\">\n",
              "    <div class=\"colab-df-container\">\n",
              "      <div>\n",
              "<style scoped>\n",
              "    .dataframe tbody tr th:only-of-type {\n",
              "        vertical-align: middle;\n",
              "    }\n",
              "\n",
              "    .dataframe tbody tr th {\n",
              "        vertical-align: top;\n",
              "    }\n",
              "\n",
              "    .dataframe thead th {\n",
              "        text-align: right;\n",
              "    }\n",
              "</style>\n",
              "<table border=\"1\" class=\"dataframe\">\n",
              "  <thead>\n",
              "    <tr style=\"text-align: right;\">\n",
              "      <th></th>\n",
              "      <th>age</th>\n",
              "      <th>sex</th>\n",
              "      <th>bmi</th>\n",
              "      <th>children</th>\n",
              "      <th>smoker</th>\n",
              "      <th>region</th>\n",
              "      <th>charges</th>\n",
              "    </tr>\n",
              "  </thead>\n",
              "  <tbody>\n",
              "    <tr>\n",
              "      <th>0</th>\n",
              "      <td>19</td>\n",
              "      <td>female</td>\n",
              "      <td>27.900</td>\n",
              "      <td>0</td>\n",
              "      <td>yes</td>\n",
              "      <td>southwest</td>\n",
              "      <td>16884.92400</td>\n",
              "    </tr>\n",
              "    <tr>\n",
              "      <th>1</th>\n",
              "      <td>18</td>\n",
              "      <td>male</td>\n",
              "      <td>33.770</td>\n",
              "      <td>1</td>\n",
              "      <td>no</td>\n",
              "      <td>southeast</td>\n",
              "      <td>1725.55230</td>\n",
              "    </tr>\n",
              "    <tr>\n",
              "      <th>2</th>\n",
              "      <td>28</td>\n",
              "      <td>male</td>\n",
              "      <td>33.000</td>\n",
              "      <td>3</td>\n",
              "      <td>no</td>\n",
              "      <td>southeast</td>\n",
              "      <td>4449.46200</td>\n",
              "    </tr>\n",
              "    <tr>\n",
              "      <th>3</th>\n",
              "      <td>33</td>\n",
              "      <td>male</td>\n",
              "      <td>22.705</td>\n",
              "      <td>0</td>\n",
              "      <td>no</td>\n",
              "      <td>northwest</td>\n",
              "      <td>21984.47061</td>\n",
              "    </tr>\n",
              "    <tr>\n",
              "      <th>4</th>\n",
              "      <td>32</td>\n",
              "      <td>male</td>\n",
              "      <td>28.880</td>\n",
              "      <td>0</td>\n",
              "      <td>no</td>\n",
              "      <td>northwest</td>\n",
              "      <td>3866.85520</td>\n",
              "    </tr>\n",
              "  </tbody>\n",
              "</table>\n",
              "</div>\n",
              "      <button class=\"colab-df-convert\" onclick=\"convertToInteractive('df-35467dc8-ffe3-482f-a6c8-0588ba916c68')\"\n",
              "              title=\"Convert this dataframe to an interactive table.\"\n",
              "              style=\"display:none;\">\n",
              "        \n",
              "  <svg xmlns=\"http://www.w3.org/2000/svg\" height=\"24px\"viewBox=\"0 0 24 24\"\n",
              "       width=\"24px\">\n",
              "    <path d=\"M0 0h24v24H0V0z\" fill=\"none\"/>\n",
              "    <path d=\"M18.56 5.44l.94 2.06.94-2.06 2.06-.94-2.06-.94-.94-2.06-.94 2.06-2.06.94zm-11 1L8.5 8.5l.94-2.06 2.06-.94-2.06-.94L8.5 2.5l-.94 2.06-2.06.94zm10 10l.94 2.06.94-2.06 2.06-.94-2.06-.94-.94-2.06-.94 2.06-2.06.94z\"/><path d=\"M17.41 7.96l-1.37-1.37c-.4-.4-.92-.59-1.43-.59-.52 0-1.04.2-1.43.59L10.3 9.45l-7.72 7.72c-.78.78-.78 2.05 0 2.83L4 21.41c.39.39.9.59 1.41.59.51 0 1.02-.2 1.41-.59l7.78-7.78 2.81-2.81c.8-.78.8-2.07 0-2.86zM5.41 20L4 18.59l7.72-7.72 1.47 1.35L5.41 20z\"/>\n",
              "  </svg>\n",
              "      </button>\n",
              "      \n",
              "  <style>\n",
              "    .colab-df-container {\n",
              "      display:flex;\n",
              "      flex-wrap:wrap;\n",
              "      gap: 12px;\n",
              "    }\n",
              "\n",
              "    .colab-df-convert {\n",
              "      background-color: #E8F0FE;\n",
              "      border: none;\n",
              "      border-radius: 50%;\n",
              "      cursor: pointer;\n",
              "      display: none;\n",
              "      fill: #1967D2;\n",
              "      height: 32px;\n",
              "      padding: 0 0 0 0;\n",
              "      width: 32px;\n",
              "    }\n",
              "\n",
              "    .colab-df-convert:hover {\n",
              "      background-color: #E2EBFA;\n",
              "      box-shadow: 0px 1px 2px rgba(60, 64, 67, 0.3), 0px 1px 3px 1px rgba(60, 64, 67, 0.15);\n",
              "      fill: #174EA6;\n",
              "    }\n",
              "\n",
              "    [theme=dark] .colab-df-convert {\n",
              "      background-color: #3B4455;\n",
              "      fill: #D2E3FC;\n",
              "    }\n",
              "\n",
              "    [theme=dark] .colab-df-convert:hover {\n",
              "      background-color: #434B5C;\n",
              "      box-shadow: 0px 1px 3px 1px rgba(0, 0, 0, 0.15);\n",
              "      filter: drop-shadow(0px 1px 2px rgba(0, 0, 0, 0.3));\n",
              "      fill: #FFFFFF;\n",
              "    }\n",
              "  </style>\n",
              "\n",
              "      <script>\n",
              "        const buttonEl =\n",
              "          document.querySelector('#df-35467dc8-ffe3-482f-a6c8-0588ba916c68 button.colab-df-convert');\n",
              "        buttonEl.style.display =\n",
              "          google.colab.kernel.accessAllowed ? 'block' : 'none';\n",
              "\n",
              "        async function convertToInteractive(key) {\n",
              "          const element = document.querySelector('#df-35467dc8-ffe3-482f-a6c8-0588ba916c68');\n",
              "          const dataTable =\n",
              "            await google.colab.kernel.invokeFunction('convertToInteractive',\n",
              "                                                     [key], {});\n",
              "          if (!dataTable) return;\n",
              "\n",
              "          const docLinkHtml = 'Like what you see? Visit the ' +\n",
              "            '<a target=\"_blank\" href=https://colab.research.google.com/notebooks/data_table.ipynb>data table notebook</a>'\n",
              "            + ' to learn more about interactive tables.';\n",
              "          element.innerHTML = '';\n",
              "          dataTable['output_type'] = 'display_data';\n",
              "          await google.colab.output.renderOutput(dataTable, element);\n",
              "          const docLink = document.createElement('div');\n",
              "          docLink.innerHTML = docLinkHtml;\n",
              "          element.appendChild(docLink);\n",
              "        }\n",
              "      </script>\n",
              "    </div>\n",
              "  </div>\n",
              "  "
            ]
          },
          "metadata": {},
          "execution_count": 2
        }
      ],
      "source": [
        "mdf = pd.read_csv(\"Medical Price Dataset.csv\")\n",
        "mdf.head()"
      ]
    },
    {
      "cell_type": "markdown",
      "source": [
        "\n",
        "\n",
        "---\n",
        "\n",
        "\n",
        "# Exploratory Data Analysis\n",
        "\n",
        "\n",
        "---\n",
        "\n"
      ],
      "metadata": {
        "id": "LG1PmSC3m_DY"
      }
    },
    {
      "cell_type": "code",
      "execution_count": 3,
      "metadata": {
        "colab": {
          "base_uri": "https://localhost:8080/",
          "height": 265
        },
        "id": "o8js0JhHbiKC",
        "outputId": "5a4b87fe-fca8-4795-e9ec-834b79c1933a"
      },
      "outputs": [
        {
          "output_type": "display_data",
          "data": {
            "text/plain": [
              "<Figure size 432x288 with 1 Axes>"
            ],
            "image/png": "[encoded data removed]"
          },
          "metadata": {
            "needs_background": "light"
          }
        }
      ],
      "source": [
        "plt.hist(mdf.age)\n",
        "plt.show()"
      ]
    },
    {
      "cell_type": "code",
      "execution_count": 4,
      "metadata": {
        "colab": {
          "base_uri": "https://localhost:8080/",
          "height": 350
        },
        "id": "ZHIJt_SXbiKC",
        "outputId": "6ba842f8-d0f9-4f3e-e58b-87aebf676dce"
      },
      "outputs": [
        {
          "output_type": "display_data",
          "data": {
            "text/plain": [
              "<Figure size 432x288 with 1 Axes>"
            ],
            "image/png": "[encoded data removed]"
          },
          "metadata": {
            "needs_background": "light"
          }
        }
      ],
      "source": [
        "fig = plt.figure()\n",
        "ax = fig.add_axes([0,0,1,1])\n",
        "x = mdf['bmi']\n",
        "ax.set_xlabel('BMI')\n",
        "ax.set_ylabel('Charges')\n",
        "y = mdf['charges']\n",
        "ax.bar(x,y)\n",
        "plt.show()"
      ]
    },
    {
      "cell_type": "code",
      "execution_count": 5,
      "metadata": {
        "colab": {
          "base_uri": "https://localhost:8080/",
          "height": 350
        },
        "id": "hL4tzipObiKD",
        "outputId": "61a5c0dc-9ed4-485f-bcc0-8ec9e7b2398a"
      },
      "outputs": [
        {
          "output_type": "display_data",
          "data": {
            "text/plain": [
              "<Figure size 432x288 with 1 Axes>"
            ],
            "image/png": "[encoded data removed]"
          },
          "metadata": {
            "needs_background": "light"
          }
        }
      ],
      "source": [
        "fig = plt.figure()\n",
        "ax = fig.add_axes([0,0,1,1])\n",
        "ax.bar(mdf['region'], mdf['charges'])\n",
        "ax.set_xlabel('Region')\n",
        "ax.set_ylabel('Charges')\n",
        "plt.show()"
      ]
    },
    {
      "cell_type": "code",
      "execution_count": 6,
      "metadata": {
        "colab": {
          "base_uri": "https://localhost:8080/",
          "height": 279
        },
        "id": "0xDynBr3biKD",
        "outputId": "6ed965c3-0785-4bfd-ffee-57975fec39bb"
      },
      "outputs": [
        {
          "output_type": "display_data",
          "data": {
            "text/plain": [
              "<Figure size 432x288 with 1 Axes>"
            ],
            "image/png": "[encoded data removed]"
          },
          "metadata": {
            "needs_background": "light"
          }
        }
      ],
      "source": [
        "plt.scatter(data=mdf, x=\"age\", y=\"charges\")\n",
        "plt.xlabel(\"Charges\")\n",
        "plt.ylabel(\"Age\")\n",
        "plt.show()"
      ]
    },
    {
      "cell_type": "code",
      "execution_count": 7,
      "metadata": {
        "colab": {
          "base_uri": "https://localhost:8080/",
          "height": 350
        },
        "id": "m5QolxXgbiKE",
        "outputId": "73bfe575-6c5c-4ad6-b813-14787a7cbaff"
      },
      "outputs": [
        {
          "output_type": "display_data",
          "data": {
            "text/plain": [
              "<Figure size 432x288 with 1 Axes>"
            ],
            "image/png": "[encoded data removed]"
          },
          "metadata": {
            "needs_background": "light"
          }
        }
      ],
      "source": [
        "fig = plt.figure()\n",
        "ax = fig.add_axes([0,0,1,1])\n",
        "ax.bar(mdf['children'], mdf['charges'])\n",
        "ax.set_xlabel('Children')\n",
        "ax.set_ylabel('Charges')\n",
        "plt.show()"
      ]
    },
    {
      "cell_type": "code",
      "execution_count": 8,
      "metadata": {
        "colab": {
          "base_uri": "https://localhost:8080/",
          "height": 279
        },
        "id": "YE1o_Or3biKF",
        "outputId": "165010ac-c1f7-46e8-c924-2d18fa33eae4"
      },
      "outputs": [
        {
          "output_type": "display_data",
          "data": {
            "text/plain": [
              "<Figure size 432x288 with 1 Axes>"
            ],
            "image/png": "[encoded data removed]"
          },
          "metadata": {
            "needs_background": "light"
          }
        }
      ],
      "source": [
        "plt.scatter(data=mdf, x=\"charges\", y=\"smoker\")\n",
        "plt.xlabel(\"Charges\")\n",
        "plt.ylabel(\"Smoker\")\n",
        "plt.show()"
      ]
    },
    {
      "cell_type": "markdown",
      "source": [
        "**From the above Exploratory Data analysis, we can observe the following :** \n",
        "\n",
        "\n",
        "*   People having a higher BMI have higher medical charges\n",
        "*   People are charged regardless of the region\n",
        "*   Older people have higher medical charges \n",
        "*   People with more children generally have lower medical charges\n",
        "*   Smokers have higher medical charges than non - smokers\n",
        "\n",
        "\n",
        "\n",
        "\n",
        "\n",
        "\n"
      ],
      "metadata": {
        "id": "TiiyQegq9n_K"
      }
    },
    {
      "cell_type": "markdown",
      "source": [
        "\n",
        "\n",
        "---\n",
        "\n",
        "\n",
        "# Data Preprocessing\n",
        "\n",
        "\n",
        "---\n",
        "\n"
      ],
      "metadata": {
        "id": "vXifakFUnExI"
      }
    },
    {
      "cell_type": "code",
      "execution_count": 9,
      "metadata": {
        "id": "eQtcyvumP0yI"
      },
      "outputs": [],
      "source": [
        "# Normalizing every datapoint by subracting mean of every data cloumn from every datapoint \n",
        "# divided by the standard deviation of the data column to obtain a normal distribution centered \n",
        "# around the mean of the data column\n",
        "\n",
        "mdf['bmi'] = ( mdf['bmi'] - mdf['bmi'].mean() ) / mdf['bmi'].std()\n",
        "mdf['age'] = ( mdf['age'] - mdf['age'].mean() ) / mdf['age'].std()\n",
        "\n",
        "# Dropping the region column as people are charged regardless of the region, as observed in our EDA\n",
        "\n",
        "mdf = mdf.drop(columns=['region'])"
      ]
    },
    {
      "cell_type": "code",
      "execution_count": 10,
      "metadata": {
        "colab": {
          "base_uri": "https://localhost:8080/",
          "height": 424
        },
        "id": "36ci_8hPQMzG",
        "outputId": "86cfde6d-e5e3-4217-bb17-f1dc0b3d5af8"
      },
      "outputs": [
        {
          "output_type": "execute_result",
          "data": {
            "text/plain": [
              "           age     sex       bmi  children smoker      charges\n",
              "0    -1.438227  female -0.453151         0    yes  16884.92400\n",
              "1    -1.509401    male  0.509431         1     no   1725.55230\n",
              "2    -0.797655    male  0.383164         3     no   4449.46200\n",
              "3    -0.441782    male -1.305043         0     no  21984.47061\n",
              "4    -0.512957    male -0.292447         0     no   3866.85520\n",
              "...        ...     ...       ...       ...    ...          ...\n",
              "1333  0.768185    male  0.050278         3     no  10600.54830\n",
              "1334 -1.509401  female  0.206062         0     no   2205.98080\n",
              "1335 -1.509401  female  1.014499         0     no   1629.83350\n",
              "1336 -1.295877  female -0.797515         0     no   2007.94500\n",
              "1337  1.551106  female -0.261290         0    yes  29141.36030\n",
              "\n",
              "[1338 rows x 6 columns]"
            ],
            "text/html": [
              "\n",
              "  <div id=\"df-1794d836-b7e9-4b8c-be55-a0828539457f\">\n",
              "    <div class=\"colab-df-container\">\n",
              "      <div>\n",
              "<style scoped>\n",
              "    .dataframe tbody tr th:only-of-type {\n",
              "        vertical-align: middle;\n",
              "    }\n",
              "\n",
              "    .dataframe tbody tr th {\n",
              "        vertical-align: top;\n",
              "    }\n",
              "\n",
              "    .dataframe thead th {\n",
              "        text-align: right;\n",
              "    }\n",
              "</style>\n",
              "<table border=\"1\" class=\"dataframe\">\n",
              "  <thead>\n",
              "    <tr style=\"text-align: right;\">\n",
              "      <th></th>\n",
              "      <th>age</th>\n",
              "      <th>sex</th>\n",
              "      <th>bmi</th>\n",
              "      <th>children</th>\n",
              "      <th>smoker</th>\n",
              "      <th>charges</th>\n",
              "    </tr>\n",
              "  </thead>\n",
              "  <tbody>\n",
              "    <tr>\n",
              "      <th>0</th>\n",
              "      <td>-1.438227</td>\n",
              "      <td>female</td>\n",
              "      <td>-0.453151</td>\n",
              "      <td>0</td>\n",
              "      <td>yes</td>\n",
              "      <td>16884.92400</td>\n",
              "    </tr>\n",
              "    <tr>\n",
              "      <th>1</th>\n",
              "      <td>-1.509401</td>\n",
              "      <td>male</td>\n",
              "      <td>0.509431</td>\n",
              "      <td>1</td>\n",
              "      <td>no</td>\n",
              "      <td>1725.55230</td>\n",
              "    </tr>\n",
              "    <tr>\n",
              "      <th>2</th>\n",
              "      <td>-0.797655</td>\n",
              "      <td>male</td>\n",
              "      <td>0.383164</td>\n",
              "      <td>3</td>\n",
              "      <td>no</td>\n",
              "      <td>4449.46200</td>\n",
              "    </tr>\n",
              "    <tr>\n",
              "      <th>3</th>\n",
              "      <td>-0.441782</td>\n",
              "      <td>male</td>\n",
              "      <td>-1.305043</td>\n",
              "      <td>0</td>\n",
              "      <td>no</td>\n",
              "      <td>21984.47061</td>\n",
              "    </tr>\n",
              "    <tr>\n",
              "      <th>4</th>\n",
              "      <td>-0.512957</td>\n",
              "      <td>male</td>\n",
              "      <td>-0.292447</td>\n",
              "      <td>0</td>\n",
              "      <td>no</td>\n",
              "      <td>3866.85520</td>\n",
              "    </tr>\n",
              "    <tr>\n",
              "      <th>...</th>\n",
              "      <td>...</td>\n",
              "      <td>...</td>\n",
              "      <td>...</td>\n",
              "      <td>...</td>\n",
              "      <td>...</td>\n",
              "      <td>...</td>\n",
              "    </tr>\n",
              "    <tr>\n",
              "      <th>1333</th>\n",
              "      <td>0.768185</td>\n",
              "      <td>male</td>\n",
              "      <td>0.050278</td>\n",
              "      <td>3</td>\n",
              "      <td>no</td>\n",
              "      <td>10600.54830</td>\n",
              "    </tr>\n",
              "    <tr>\n",
              "      <th>1334</th>\n",
              "      <td>-1.509401</td>\n",
              "      <td>female</td>\n",
              "      <td>0.206062</td>\n",
              "      <td>0</td>\n",
              "      <td>no</td>\n",
              "      <td>2205.98080</td>\n",
              "    </tr>\n",
              "    <tr>\n",
              "      <th>1335</th>\n",
              "      <td>-1.509401</td>\n",
              "      <td>female</td>\n",
              "      <td>1.014499</td>\n",
              "      <td>0</td>\n",
              "      <td>no</td>\n",
              "      <td>1629.83350</td>\n",
              "    </tr>\n",
              "    <tr>\n",
              "      <th>1336</th>\n",
              "      <td>-1.295877</td>\n",
              "      <td>female</td>\n",
              "      <td>-0.797515</td>\n",
              "      <td>0</td>\n",
              "      <td>no</td>\n",
              "      <td>2007.94500</td>\n",
              "    </tr>\n",
              "    <tr>\n",
              "      <th>1337</th>\n",
              "      <td>1.551106</td>\n",
              "      <td>female</td>\n",
              "      <td>-0.261290</td>\n",
              "      <td>0</td>\n",
              "      <td>yes</td>\n",
              "      <td>29141.36030</td>\n",
              "    </tr>\n",
              "  </tbody>\n",
              "</table>\n",
              "<p>1338 rows × 6 columns</p>\n",
              "</div>\n",
              "      <button class=\"colab-df-convert\" onclick=\"convertToInteractive('df-1794d836-b7e9-4b8c-be55-a0828539457f')\"\n",
              "              title=\"Convert this dataframe to an interactive table.\"\n",
              "              style=\"display:none;\">\n",
              "        \n",
              "  <svg xmlns=\"http://www.w3.org/2000/svg\" height=\"24px\"viewBox=\"0 0 24 24\"\n",
              "       width=\"24px\">\n",
              "    <path d=\"M0 0h24v24H0V0z\" fill=\"none\"/>\n",
              "    <path d=\"M18.56 5.44l.94 2.06.94-2.06 2.06-.94-2.06-.94-.94-2.06-.94 2.06-2.06.94zm-11 1L8.5 8.5l.94-2.06 2.06-.94-2.06-.94L8.5 2.5l-.94 2.06-2.06.94zm10 10l.94 2.06.94-2.06 2.06-.94-2.06-.94-.94-2.06-.94 2.06-2.06.94z\"/><path d=\"M17.41 7.96l-1.37-1.37c-.4-.4-.92-.59-1.43-.59-.52 0-1.04.2-1.43.59L10.3 9.45l-7.72 7.72c-.78.78-.78 2.05 0 2.83L4 21.41c.39.39.9.59 1.41.59.51 0 1.02-.2 1.41-.59l7.78-7.78 2.81-2.81c.8-.78.8-2.07 0-2.86zM5.41 20L4 18.59l7.72-7.72 1.47 1.35L5.41 20z\"/>\n",
              "  </svg>\n",
              "      </button>\n",
              "      \n",
              "  <style>\n",
              "    .colab-df-container {\n",
              "      display:flex;\n",
              "      flex-wrap:wrap;\n",
              "      gap: 12px;\n",
              "    }\n",
              "\n",
              "    .colab-df-convert {\n",
              "      background-color: #E8F0FE;\n",
              "      border: none;\n",
              "      border-radius: 50%;\n",
              "      cursor: pointer;\n",
              "      display: none;\n",
              "      fill: #1967D2;\n",
              "      height: 32px;\n",
              "      padding: 0 0 0 0;\n",
              "      width: 32px;\n",
              "    }\n",
              "\n",
              "    .colab-df-convert:hover {\n",
              "      background-color: #E2EBFA;\n",
              "      box-shadow: 0px 1px 2px rgba(60, 64, 67, 0.3), 0px 1px 3px 1px rgba(60, 64, 67, 0.15);\n",
              "      fill: #174EA6;\n",
              "    }\n",
              "\n",
              "    [theme=dark] .colab-df-convert {\n",
              "      background-color: #3B4455;\n",
              "      fill: #D2E3FC;\n",
              "    }\n",
              "\n",
              "    [theme=dark] .colab-df-convert:hover {\n",
              "      background-color: #434B5C;\n",
              "      box-shadow: 0px 1px 3px 1px rgba(0, 0, 0, 0.15);\n",
              "      filter: drop-shadow(0px 1px 2px rgba(0, 0, 0, 0.3));\n",
              "      fill: #FFFFFF;\n",
              "    }\n",
              "  </style>\n",
              "\n",
              "      <script>\n",
              "        const buttonEl =\n",
              "          document.querySelector('#df-1794d836-b7e9-4b8c-be55-a0828539457f button.colab-df-convert');\n",
              "        buttonEl.style.display =\n",
              "          google.colab.kernel.accessAllowed ? 'block' : 'none';\n",
              "\n",
              "        async function convertToInteractive(key) {\n",
              "          const element = document.querySelector('#df-1794d836-b7e9-4b8c-be55-a0828539457f');\n",
              "          const dataTable =\n",
              "            await google.colab.kernel.invokeFunction('convertToInteractive',\n",
              "                                                     [key], {});\n",
              "          if (!dataTable) return;\n",
              "\n",
              "          const docLinkHtml = 'Like what you see? Visit the ' +\n",
              "            '<a target=\"_blank\" href=https://colab.research.google.com/notebooks/data_table.ipynb>data table notebook</a>'\n",
              "            + ' to learn more about interactive tables.';\n",
              "          element.innerHTML = '';\n",
              "          dataTable['output_type'] = 'display_data';\n",
              "          await google.colab.output.renderOutput(dataTable, element);\n",
              "          const docLink = document.createElement('div');\n",
              "          docLink.innerHTML = docLinkHtml;\n",
              "          element.appendChild(docLink);\n",
              "        }\n",
              "      </script>\n",
              "    </div>\n",
              "  </div>\n",
              "  "
            ]
          },
          "metadata": {},
          "execution_count": 10
        }
      ],
      "source": [
        "mdf"
      ]
    },
    {
      "cell_type": "code",
      "execution_count": 11,
      "metadata": {
        "id": "pW8jTfYzQrxX"
      },
      "outputs": [],
      "source": [
        "mdf = pd.get_dummies(mdf, columns=['smoker', 'sex'])"
      ]
    },
    {
      "cell_type": "code",
      "execution_count": 12,
      "metadata": {
        "colab": {
          "base_uri": "https://localhost:8080/",
          "height": 206
        },
        "id": "Z7l2xTSVRmii",
        "outputId": "c57749c7-72fe-4182-8f9a-ae0ebf771fc5"
      },
      "outputs": [
        {
          "output_type": "execute_result",
          "data": {
            "text/plain": [
              "        age       bmi  children      charges  smoker_no  smoker_yes  \\\n",
              "0 -1.438227 -0.453151         0  16884.92400          0           1   \n",
              "1 -1.509401  0.509431         1   1725.55230          1           0   \n",
              "2 -0.797655  0.383164         3   4449.46200          1           0   \n",
              "3 -0.441782 -1.305043         0  21984.47061          1           0   \n",
              "4 -0.512957 -0.292447         0   3866.85520          1           0   \n",
              "\n",
              "   sex_female  sex_male  \n",
              "0           1         0  \n",
              "1           0         1  \n",
              "2           0         1  \n",
              "3           0         1  \n",
              "4           0         1  "
            ],
            "text/html": [
              "\n",
              "  <div id=\"df-14b826c3-261a-4a52-8c00-e2cace913bef\">\n",
              "    <div class=\"colab-df-container\">\n",
              "      <div>\n",
              "<style scoped>\n",
              "    .dataframe tbody tr th:only-of-type {\n",
              "        vertical-align: middle;\n",
              "    }\n",
              "\n",
              "    .dataframe tbody tr th {\n",
              "        vertical-align: top;\n",
              "    }\n",
              "\n",
              "    .dataframe thead th {\n",
              "        text-align: right;\n",
              "    }\n",
              "</style>\n",
              "<table border=\"1\" class=\"dataframe\">\n",
              "  <thead>\n",
              "    <tr style=\"text-align: right;\">\n",
              "      <th></th>\n",
              "      <th>age</th>\n",
              "      <th>bmi</th>\n",
              "      <th>children</th>\n",
              "      <th>charges</th>\n",
              "      <th>smoker_no</th>\n",
              "      <th>smoker_yes</th>\n",
              "      <th>sex_female</th>\n",
              "      <th>sex_male</th>\n",
              "    </tr>\n",
              "  </thead>\n",
              "  <tbody>\n",
              "    <tr>\n",
              "      <th>0</th>\n",
              "      <td>-1.438227</td>\n",
              "      <td>-0.453151</td>\n",
              "      <td>0</td>\n",
              "      <td>16884.92400</td>\n",
              "      <td>0</td>\n",
              "      <td>1</td>\n",
              "      <td>1</td>\n",
              "      <td>0</td>\n",
              "    </tr>\n",
              "    <tr>\n",
              "      <th>1</th>\n",
              "      <td>-1.509401</td>\n",
              "      <td>0.509431</td>\n",
              "      <td>1</td>\n",
              "      <td>1725.55230</td>\n",
              "      <td>1</td>\n",
              "      <td>0</td>\n",
              "      <td>0</td>\n",
              "      <td>1</td>\n",
              "    </tr>\n",
              "    <tr>\n",
              "      <th>2</th>\n",
              "      <td>-0.797655</td>\n",
              "      <td>0.383164</td>\n",
              "      <td>3</td>\n",
              "      <td>4449.46200</td>\n",
              "      <td>1</td>\n",
              "      <td>0</td>\n",
              "      <td>0</td>\n",
              "      <td>1</td>\n",
              "    </tr>\n",
              "    <tr>\n",
              "      <th>3</th>\n",
              "      <td>-0.441782</td>\n",
              "      <td>-1.305043</td>\n",
              "      <td>0</td>\n",
              "      <td>21984.47061</td>\n",
              "      <td>1</td>\n",
              "      <td>0</td>\n",
              "      <td>0</td>\n",
              "      <td>1</td>\n",
              "    </tr>\n",
              "    <tr>\n",
              "      <th>4</th>\n",
              "      <td>-0.512957</td>\n",
              "      <td>-0.292447</td>\n",
              "      <td>0</td>\n",
              "      <td>3866.85520</td>\n",
              "      <td>1</td>\n",
              "      <td>0</td>\n",
              "      <td>0</td>\n",
              "      <td>1</td>\n",
              "    </tr>\n",
              "  </tbody>\n",
              "</table>\n",
              "</div>\n",
              "      <button class=\"colab-df-convert\" onclick=\"convertToInteractive('df-14b826c3-261a-4a52-8c00-e2cace913bef')\"\n",
              "              title=\"Convert this dataframe to an interactive table.\"\n",
              "              style=\"display:none;\">\n",
              "        \n",
              "  <svg xmlns=\"http://www.w3.org/2000/svg\" height=\"24px\"viewBox=\"0 0 24 24\"\n",
              "       width=\"24px\">\n",
              "    <path d=\"M0 0h24v24H0V0z\" fill=\"none\"/>\n",
              "    <path d=\"M18.56 5.44l.94 2.06.94-2.06 2.06-.94-2.06-.94-.94-2.06-.94 2.06-2.06.94zm-11 1L8.5 8.5l.94-2.06 2.06-.94-2.06-.94L8.5 2.5l-.94 2.06-2.06.94zm10 10l.94 2.06.94-2.06 2.06-.94-2.06-.94-.94-2.06-.94 2.06-2.06.94z\"/><path d=\"M17.41 7.96l-1.37-1.37c-.4-.4-.92-.59-1.43-.59-.52 0-1.04.2-1.43.59L10.3 9.45l-7.72 7.72c-.78.78-.78 2.05 0 2.83L4 21.41c.39.39.9.59 1.41.59.51 0 1.02-.2 1.41-.59l7.78-7.78 2.81-2.81c.8-.78.8-2.07 0-2.86zM5.41 20L4 18.59l7.72-7.72 1.47 1.35L5.41 20z\"/>\n",
              "  </svg>\n",
              "      </button>\n",
              "      \n",
              "  <style>\n",
              "    .colab-df-container {\n",
              "      display:flex;\n",
              "      flex-wrap:wrap;\n",
              "      gap: 12px;\n",
              "    }\n",
              "\n",
              "    .colab-df-convert {\n",
              "      background-color: #E8F0FE;\n",
              "      border: none;\n",
              "      border-radius: 50%;\n",
              "      cursor: pointer;\n",
              "      display: none;\n",
              "      fill: #1967D2;\n",
              "      height: 32px;\n",
              "      padding: 0 0 0 0;\n",
              "      width: 32px;\n",
              "    }\n",
              "\n",
              "    .colab-df-convert:hover {\n",
              "      background-color: #E2EBFA;\n",
              "      box-shadow: 0px 1px 2px rgba(60, 64, 67, 0.3), 0px 1px 3px 1px rgba(60, 64, 67, 0.15);\n",
              "      fill: #174EA6;\n",
              "    }\n",
              "\n",
              "    [theme=dark] .colab-df-convert {\n",
              "      background-color: #3B4455;\n",
              "      fill: #D2E3FC;\n",
              "    }\n",
              "\n",
              "    [theme=dark] .colab-df-convert:hover {\n",
              "      background-color: #434B5C;\n",
              "      box-shadow: 0px 1px 3px 1px rgba(0, 0, 0, 0.15);\n",
              "      filter: drop-shadow(0px 1px 2px rgba(0, 0, 0, 0.3));\n",
              "      fill: #FFFFFF;\n",
              "    }\n",
              "  </style>\n",
              "\n",
              "      <script>\n",
              "        const buttonEl =\n",
              "          document.querySelector('#df-14b826c3-261a-4a52-8c00-e2cace913bef button.colab-df-convert');\n",
              "        buttonEl.style.display =\n",
              "          google.colab.kernel.accessAllowed ? 'block' : 'none';\n",
              "\n",
              "        async function convertToInteractive(key) {\n",
              "          const element = document.querySelector('#df-14b826c3-261a-4a52-8c00-e2cace913bef');\n",
              "          const dataTable =\n",
              "            await google.colab.kernel.invokeFunction('convertToInteractive',\n",
              "                                                     [key], {});\n",
              "          if (!dataTable) return;\n",
              "\n",
              "          const docLinkHtml = 'Like what you see? Visit the ' +\n",
              "            '<a target=\"_blank\" href=https://colab.research.google.com/notebooks/data_table.ipynb>data table notebook</a>'\n",
              "            + ' to learn more about interactive tables.';\n",
              "          element.innerHTML = '';\n",
              "          dataTable['output_type'] = 'display_data';\n",
              "          await google.colab.output.renderOutput(dataTable, element);\n",
              "          const docLink = document.createElement('div');\n",
              "          docLink.innerHTML = docLinkHtml;\n",
              "          element.appendChild(docLink);\n",
              "        }\n",
              "      </script>\n",
              "    </div>\n",
              "  </div>\n",
              "  "
            ]
          },
          "metadata": {},
          "execution_count": 12
        }
      ],
      "source": [
        "mdf.head()"
      ]
    },
    {
      "cell_type": "code",
      "execution_count": 13,
      "metadata": {
        "colab": {
          "base_uri": "https://localhost:8080/"
        },
        "id": "o2ShpixshKkb",
        "outputId": "c8d6f001-2f5b-4d56-f2a2-7318e685371c"
      },
      "outputs": [
        {
          "output_type": "stream",
          "name": "stdout",
          "text": [
            "<class 'pandas.core.frame.DataFrame'>\n",
            "RangeIndex: 1338 entries, 0 to 1337\n",
            "Data columns (total 8 columns):\n",
            " #   Column      Non-Null Count  Dtype  \n",
            "---  ------      --------------  -----  \n",
            " 0   age         1338 non-null   float64\n",
            " 1   bmi         1338 non-null   float64\n",
            " 2   children    1338 non-null   int64  \n",
            " 3   charges     1338 non-null   float64\n",
            " 4   smoker_no   1338 non-null   uint8  \n",
            " 5   smoker_yes  1338 non-null   uint8  \n",
            " 6   sex_female  1338 non-null   uint8  \n",
            " 7   sex_male    1338 non-null   uint8  \n",
            "dtypes: float64(3), int64(1), uint8(4)\n",
            "memory usage: 47.2 KB\n"
          ]
        }
      ],
      "source": [
        "mdf.info()"
      ]
    },
    {
      "cell_type": "code",
      "execution_count": 14,
      "metadata": {
        "id": "5RhMcga4mQ2T"
      },
      "outputs": [],
      "source": [
        "x = np.array(mdf.loc[:, mdf.columns != 'charges'].values)\n",
        "y = np.array(mdf['charges'].values)"
      ]
    },
    {
      "cell_type": "code",
      "execution_count": 15,
      "metadata": {
        "colab": {
          "base_uri": "https://localhost:8080/"
        },
        "id": "cbp6mvY4otvA",
        "outputId": "690114b7-f922-483c-c8fa-b8decdd4aa2d"
      },
      "outputs": [
        {
          "output_type": "stream",
          "name": "stdout",
          "text": [
            "x shape : (1338, 7)\n",
            "y shape : (1338,)\n"
          ]
        }
      ],
      "source": [
        "# Checking x and y dimensions\n",
        "print(f\"x shape : {x.shape}\")\n",
        "print(f\"y shape : {y.shape}\")"
      ]
    },
    {
      "cell_type": "markdown",
      "source": [
        "\n",
        "\n",
        "---\n",
        "\n",
        "\n",
        "# Linear Regression \n",
        "\n",
        "\n",
        "---\n",
        "\n",
        "\n",
        "\n",
        "\n",
        "\n",
        "\n",
        "\n"
      ],
      "metadata": {
        "id": "CzbI1dKHnL8n"
      }
    },
    {
      "cell_type": "markdown",
      "source": [
        "Linear Regresssion is an algorithm that assumes that the relation between one or more variables has linear (direct) relation with the value of another variable value.\n",
        "\n",
        "> For Linear Regression we have the equation: Y = w * x + b, where Y is the predicted value and w is value of weight, b is the value of bias of our trained model and x is the input value\n",
        "\n",
        "\n",
        "> For minimizing the error between the predicted value and the actual value, we try to minimize the Cost (sum of errors) by using Gradient Descent which finds the weights and biases for when the cost is the lowest\n",
        "\n",
        "\n",
        "\n",
        "> Learning rate is defined as the rate of change of weights and biases of our model which we set to 0.002\n",
        "\n",
        "\n",
        "\n",
        "> Epochs is the number of times we want our model to look at the data and improve itself \n",
        "\n",
        "\n",
        "\n"
      ],
      "metadata": {
        "id": "UAGz1KiFuO-e"
      }
    },
    {
      "cell_type": "markdown",
      "source": [
        "![simple-linear-regression-equation-linear-relation.png](data:image/png;base64,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)\n"
      ],
      "metadata": {
        "id": "5iBXZSqtt_rc"
      }
    },
    {
      "cell_type": "code",
      "execution_count": 16,
      "metadata": {
        "id": "d53KFqVcicsn"
      },
      "outputs": [],
      "source": [
        "def CostFunction(x, y, weight, bias):\n",
        "  cost = np.sum((((x.dot(weight) + bias) - y) ** 2) / (2*len(y)))\n",
        "  return cost\n",
        "\n",
        "def GradientDescent(x, y, weight, bias, learning_rate, epochs):\n",
        "  cost_list = [0] * epochs\n",
        "   \n",
        "  for epoch in range(epochs):\n",
        "    z = x.dot(weight) + bias\n",
        "    loss = z - y\n",
        "        \n",
        "    weight_gradient = x.T.dot(loss) / len(y)\n",
        "    bias_gradient = np.sum(loss) / len(y)\n",
        "        \n",
        "    weight = weight - learning_rate * weight_gradient\n",
        "    bias = bias - learning_rate * bias_gradient\n",
        "  \n",
        "    cost = CostFunction(x, y, weight, bias)\n",
        "    cost_list[epoch] = cost\n",
        "        \n",
        "    if (epoch%(epochs / 10) == 0):\n",
        "      print(\"Cost :\",cost)\n",
        "        \n",
        "  return weight, bias, cost_list"
      ]
    },
    {
      "cell_type": "code",
      "execution_count": 17,
      "metadata": {
        "id": "dsP3pQFzo4Cm"
      },
      "outputs": [],
      "source": [
        "# Splitting our data in train and test sets to evaluate our trained model later\n",
        "from sklearn.model_selection import train_test_split\n",
        "Xtrain, Xtest, Ytrain, Ytest = train_test_split(x, y, test_size = 0.3, random_state = 1)"
      ]
    },
    {
      "cell_type": "markdown",
      "source": [
        "Training process"
      ],
      "metadata": {
        "id": "8ytodR3JoX9X"
      }
    },
    {
      "cell_type": "code",
      "execution_count": 18,
      "metadata": {
        "colab": {
          "base_uri": "https://localhost:8080/"
        },
        "id": "T0Pi18gbmEuX",
        "outputId": "a0bf2129-9931-401c-e6c2-5a1da88e46b2"
      },
      "outputs": [
        {
          "output_type": "stream",
          "name": "stdout",
          "text": [
            "Cost : 161248625.64559507\n",
            "Cost : 29624276.158706702\n",
            "Cost : 20285043.58728341\n",
            "Cost : 18657897.394246448\n",
            "Cost : 18371750.311765\n",
            "Cost : 18321370.966073886\n",
            "Cost : 18312498.732577667\n",
            "Cost : 18310936.140933625\n",
            "Cost : 18310660.92913074\n",
            "Cost : 18310612.45710607\n"
          ]
        }
      ],
      "source": [
        "weight, bias, cost = GradientDescent(Xtrain, Ytrain, np.zeros(Xtrain.shape[1]), 0, 0.002,epochs=15000)"
      ]
    },
    {
      "cell_type": "code",
      "execution_count": 19,
      "metadata": {
        "colab": {
          "base_uri": "https://localhost:8080/",
          "height": 276
        },
        "id": "VxMOyFwSpTt_",
        "outputId": "58436e8e-bfa7-40ea-eedf-45b443156a9b"
      },
      "outputs": [
        {
          "output_type": "display_data",
          "data": {
            "text/plain": [
              "<Figure size 432x288 with 1 Axes>"
            ],
            "image/png": "[encoded data removed]"
          },
          "metadata": {
            "needs_background": "light"
          }
        }
      ],
      "source": [
        "# Plotting our cost curve with respect to epochs, we can observe the cost (errors) reducing as \n",
        "# the model optimizes its parameters (weights and biases) with each epoch\n",
        "plt.plot(cost)\n",
        "plt.show()"
      ]
    },
    {
      "cell_type": "code",
      "execution_count": 20,
      "metadata": {
        "id": "0qAinvl5pfIN"
      },
      "outputs": [],
      "source": [
        "def predict(X, w, b):\n",
        "  return X.dot(w) + b \n",
        "y_pred = predict(Xtest, weight, bias)"
      ]
    },
    {
      "cell_type": "markdown",
      "source": [
        "\n",
        "\n",
        "---\n",
        "\n",
        "\n",
        "# Evaluating our model\n",
        "\n",
        "\n",
        "---\n",
        "\n"
      ],
      "metadata": {
        "id": "WYr5iRg3qJeV"
      }
    },
    {
      "cell_type": "code",
      "execution_count": 21,
      "metadata": {
        "colab": {
          "base_uri": "https://localhost:8080/"
        },
        "id": "iHxrJhgspZbf",
        "outputId": "08abbe1e-9c44-40f7-bc9e-df1457bc09dc"
      },
      "outputs": [
        {
          "output_type": "stream",
          "name": "stdout",
          "text": [
            "R2 score of our model is 0.74\n"
          ]
        }
      ],
      "source": [
        "def r2_score(y_pred, y):\n",
        "  a = np.sum((y_pred - y) ** 2)\n",
        "  b = np.sum((y - y.mean()) ** 2)  \n",
        "  r2 = 1 - (a / b)\n",
        "  return r2\n",
        "print(f\"R2 score of our model is {r2_score(y_pred, Ytest):.2f}\")"
      ]
    },
    {
      "cell_type": "code",
      "execution_count": 22,
      "metadata": {
        "colab": {
          "base_uri": "https://localhost:8080/"
        },
        "id": "WUXQ7dOztQo8",
        "outputId": "0d82bb14-8216-4cc5-d8ae-543c150ce89b"
      },
      "outputs": [
        {
          "output_type": "stream",
          "name": "stdout",
          "text": [
            "On average our Model is off by $6082.71\n"
          ]
        }
      ],
      "source": [
        "def rmse(predictions, targets):\n",
        "  return np.sqrt(((predictions - targets) ** 2).mean())\n",
        "print(f\"On average our Model is off by ${rmse(y_pred, Ytest):.2f}\")"
      ]
    }
  ],
  "metadata": {
    "colab": {
      "collapsed_sections": [
        "CvD_gbHpm6WO",
        "LG1PmSC3m_DY",
        "vXifakFUnExI",
        "CzbI1dKHnL8n",
        "WYr5iRg3qJeV"
      ],
      "name": "FSM_2_LinearRegression_Final.ipynb",
      "provenance": [],
      "include_colab_link": true
    },
    "interpreter": {
      "hash": "a0d3c5e4dbf34d03e255832dd4daf115e12e670228debe72a91e0e96f26a1e5c"
    },
    "kernelspec": {
      "display_name": "Python 3.8.13 (conda)",
      "language": "python",
      "name": "python3"
    },
    "language_info": {
      "codemirror_mode": {
        "name": "ipython",
        "version": 3
      },
      "file_extension": ".py",
      "mimetype": "text/x-python",
      "name": "python",
      "nbconvert_exporter": "python",
      "pygments_lexer": "ipython3",
      "version": "3.8.13"
    }
  },
  "nbformat": 4,
  "nbformat_minor": 0
}