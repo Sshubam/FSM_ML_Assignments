{
  "cells": [
    {
      "cell_type": "markdown",
      "metadata": {
        "id": "view-in-github",
        "colab_type": "text"
      },
      "source": [
        "<a href=\"https://colab.research.google.com/github/Sshubam/FSM_ML_Assignments/blob/main/FSM_2_LinearRegression_Final.ipynb\" target=\"_parent\"><img src=\"https://colab.research.google.com/assets/colab-badge.svg\" alt=\"Open In Colab\"/></a>"
      ]
    },
    {
      "cell_type": "markdown",
      "metadata": {
        "id": "1ZKu2q1POeGh"
      },
      "source": [
        "#Linear Regression eda later\n"
      ]
    },
    {
      "cell_type": "code",
      "execution_count": null,
      "metadata": {
        "id": "XR4C_8diemNf"
      },
      "outputs": [],
      "source": [
        "import pandas as pd\n",
        "import numpy as np\n",
        "import matplotlib.pyplot as plt\n",
        "import matplotlib as mpl\n",
        "mpl.rcParams['figure.facecolor'] = 'white'"
      ]
    },
    {
      "cell_type": "code",
      "execution_count": null,
      "metadata": {
        "colab": {
          "base_uri": "https://localhost:8080/",
          "height": 206
        },
        "id": "I_JrbrzXPRKe",
        "outputId": "ef085bdc-9875-45e3-beb5-120f41cbceff"
      },
      "outputs": [
        {
          "data": {
            "text/html": [
              "<div>\n",
              "<style scoped>\n",
              "    .dataframe tbody tr th:only-of-type {\n",
              "        vertical-align: middle;\n",
              "    }\n",
              "\n",
              "    .dataframe tbody tr th {\n",
              "        vertical-align: top;\n",
              "    }\n",
              "\n",
              "    .dataframe thead th {\n",
              "        text-align: right;\n",
              "    }\n",
              "</style>\n",
              "<table border=\"1\" class=\"dataframe\">\n",
              "  <thead>\n",
              "    <tr style=\"text-align: right;\">\n",
              "      <th></th>\n",
              "      <th>age</th>\n",
              "      <th>sex</th>\n",
              "      <th>bmi</th>\n",
              "      <th>children</th>\n",
              "      <th>smoker</th>\n",
              "      <th>region</th>\n",
              "      <th>charges</th>\n",
              "    </tr>\n",
              "  </thead>\n",
              "  <tbody>\n",
              "    <tr>\n",
              "      <th>0</th>\n",
              "      <td>19</td>\n",
              "      <td>female</td>\n",
              "      <td>27.900</td>\n",
              "      <td>0</td>\n",
              "      <td>yes</td>\n",
              "      <td>southwest</td>\n",
              "      <td>16884.92400</td>\n",
              "    </tr>\n",
              "    <tr>\n",
              "      <th>1</th>\n",
              "      <td>18</td>\n",
              "      <td>male</td>\n",
              "      <td>33.770</td>\n",
              "      <td>1</td>\n",
              "      <td>no</td>\n",
              "      <td>southeast</td>\n",
              "      <td>1725.55230</td>\n",
              "    </tr>\n",
              "    <tr>\n",
              "      <th>2</th>\n",
              "      <td>28</td>\n",
              "      <td>male</td>\n",
              "      <td>33.000</td>\n",
              "      <td>3</td>\n",
              "      <td>no</td>\n",
              "      <td>southeast</td>\n",
              "      <td>4449.46200</td>\n",
              "    </tr>\n",
              "    <tr>\n",
              "      <th>3</th>\n",
              "      <td>33</td>\n",
              "      <td>male</td>\n",
              "      <td>22.705</td>\n",
              "      <td>0</td>\n",
              "      <td>no</td>\n",
              "      <td>northwest</td>\n",
              "      <td>21984.47061</td>\n",
              "    </tr>\n",
              "    <tr>\n",
              "      <th>4</th>\n",
              "      <td>32</td>\n",
              "      <td>male</td>\n",
              "      <td>28.880</td>\n",
              "      <td>0</td>\n",
              "      <td>no</td>\n",
              "      <td>northwest</td>\n",
              "      <td>3866.85520</td>\n",
              "    </tr>\n",
              "  </tbody>\n",
              "</table>\n",
              "</div>"
            ],
            "text/plain": [
              "   age     sex     bmi  children smoker     region      charges\n",
              "0   19  female  27.900         0    yes  southwest  16884.92400\n",
              "1   18    male  33.770         1     no  southeast   1725.55230\n",
              "2   28    male  33.000         3     no  southeast   4449.46200\n",
              "3   33    male  22.705         0     no  northwest  21984.47061\n",
              "4   32    male  28.880         0     no  northwest   3866.85520"
            ]
          },
          "execution_count": 100,
          "metadata": {},
          "output_type": "execute_result"
        }
      ],
      "source": [
        "mdf = pd.read_csv(\"/Users/sshubam/Downloads/MedicalPriceDataset.csv\")\n",
        "mdf.head()"
      ]
    },
    {
      "cell_type": "code",
      "execution_count": null,
      "metadata": {
        "id": "o8js0JhHbiKC",
        "outputId": "18a478d3-2a4a-4b6f-8a1a-c83c5436d5e3"
      },
      "outputs": [
        {
          "data": {
            "image/png": "[encoded data removed]",
            "text/plain": [
              "<Figure size 432x288 with 1 Axes>"
            ]
          },
          "metadata": {},
          "output_type": "display_data"
        }
      ],
      "source": [
        "plt.hist(mdf.age)\n",
        "plt.show()"
      ]
    },
    {
      "cell_type": "code",
      "execution_count": null,
      "metadata": {
        "id": "ZHIJt_SXbiKC",
        "outputId": "329b909e-ab01-4a53-bf79-258f90cd6745"
      },
      "outputs": [
        {
          "data": {
            "image/png": "[encoded data removed]",
            "text/plain": [
              "<Figure size 432x288 with 1 Axes>"
            ]
          },
          "metadata": {},
          "output_type": "display_data"
        }
      ],
      "source": [
        "fig = plt.figure()\n",
        "ax = fig.add_axes([0,0,1,1])\n",
        "x = mdf['bmi']\n",
        "ax.set_xlabel('BMI')\n",
        "ax.set_ylabel('Charges')\n",
        "y = mdf['charges']\n",
        "ax.bar(x,y)\n",
        "plt.show()"
      ]
    },
    {
      "cell_type": "code",
      "execution_count": null,
      "metadata": {
        "id": "hL4tzipObiKD",
        "outputId": "43bdf998-a8ac-46c7-998b-304080f685c0"
      },
      "outputs": [
        {
          "data": {
            "image/png": "[encoded data removed]",
            "text/plain": [
              "<Figure size 432x288 with 1 Axes>"
            ]
          },
          "metadata": {},
          "output_type": "display_data"
        }
      ],
      "source": [
        "fig = plt.figure()\n",
        "ax = fig.add_axes([0,0,1,1])\n",
        "ax.bar(mdf['region'], mdf['charges'])\n",
        "ax.set_xlabel('Region')\n",
        "ax.set_ylabel('Charges')\n",
        "plt.show()"
      ]
    },
    {
      "cell_type": "code",
      "execution_count": null,
      "metadata": {
        "id": "0xDynBr3biKD",
        "outputId": "3f64ccc4-de4e-49a4-d4e8-e3ee81794000"
      },
      "outputs": [
        {
          "data": {
            "image/png": "[encoded data removed]",
            "text/plain": [
              "<Figure size 432x288 with 1 Axes>"
            ]
          },
          "metadata": {},
          "output_type": "display_data"
        }
      ],
      "source": [
        "plt.scatter(data=mdf, x=\"age\", y=\"charges\")\n",
        "plt.xlabel(\"Charges\")\n",
        "plt.ylabel(\"Age\")\n",
        "plt.show()"
      ]
    },
    {
      "cell_type": "code",
      "execution_count": null,
      "metadata": {
        "id": "m5QolxXgbiKE",
        "outputId": "b21aad84-9862-44c1-b58e-2b4d06122fb0"
      },
      "outputs": [
        {
          "data": {
            "image/png": "[encoded data removed]",
            "text/plain": [
              "<Figure size 432x288 with 1 Axes>"
            ]
          },
          "metadata": {},
          "output_type": "display_data"
        }
      ],
      "source": [
        "fig = plt.figure()\n",
        "ax = fig.add_axes([0,0,1,1])\n",
        "ax.bar(mdf['children'], mdf['charges'])\n",
        "ax.set_xlabel('Children')\n",
        "ax.set_ylabel('Charges')\n",
        "plt.show()"
      ]
    },
    {
      "cell_type": "code",
      "execution_count": null,
      "metadata": {
        "id": "YE1o_Or3biKF",
        "outputId": "5e56f302-51d0-4170-ac25-9986fa8f234d"
      },
      "outputs": [
        {
          "data": {
            "image/png": "[encoded data removed]",
            "text/plain": [
              "<Figure size 432x288 with 1 Axes>"
            ]
          },
          "metadata": {},
          "output_type": "display_data"
        }
      ],
      "source": [
        "plt.scatter(data=mdf, x=\"charges\", y=\"smoker\")\n",
        "plt.xlabel(\"Charges\")\n",
        "plt.ylabel(\"Smoker\")\n",
        "plt.show()"
      ]
    },
    {
      "cell_type": "code",
      "execution_count": null,
      "metadata": {
        "id": "eQtcyvumP0yI"
      },
      "outputs": [],
      "source": [
        "mdf['bmi'] = ( mdf['bmi'] - mdf['bmi'].mean() ) / mdf['bmi'].std()\n",
        "# mdf['charges'] = ( mdf['charges'] - mdf['charges'].mean() ) / mdf['charges'].std()\n",
        "mdf['age'] = ( mdf['age'] - mdf['age'].mean() ) / mdf['age'].std()\n",
        "mdf['children'] = ( mdf['children'] - mdf['children'].mean() ) / mdf['children'].std()"
      ]
    },
    {
      "cell_type": "code",
      "execution_count": null,
      "metadata": {
        "colab": {
          "base_uri": "https://localhost:8080/",
          "height": 424
        },
        "id": "36ci_8hPQMzG",
        "outputId": "3bc56f93-ddbc-4ca6-b243-0c41c6bc7771"
      },
      "outputs": [
        {
          "data": {
            "text/html": [
              "<div>\n",
              "<style scoped>\n",
              "    .dataframe tbody tr th:only-of-type {\n",
              "        vertical-align: middle;\n",
              "    }\n",
              "\n",
              "    .dataframe tbody tr th {\n",
              "        vertical-align: top;\n",
              "    }\n",
              "\n",
              "    .dataframe thead th {\n",
              "        text-align: right;\n",
              "    }\n",
              "</style>\n",
              "<table border=\"1\" class=\"dataframe\">\n",
              "  <thead>\n",
              "    <tr style=\"text-align: right;\">\n",
              "      <th></th>\n",
              "      <th>age</th>\n",
              "      <th>sex</th>\n",
              "      <th>bmi</th>\n",
              "      <th>children</th>\n",
              "      <th>smoker</th>\n",
              "      <th>region</th>\n",
              "      <th>charges</th>\n",
              "    </tr>\n",
              "  </thead>\n",
              "  <tbody>\n",
              "    <tr>\n",
              "      <th>0</th>\n",
              "      <td>-1.438227</td>\n",
              "      <td>female</td>\n",
              "      <td>-0.453151</td>\n",
              "      <td>-0.908274</td>\n",
              "      <td>yes</td>\n",
              "      <td>southwest</td>\n",
              "      <td>16884.92400</td>\n",
              "    </tr>\n",
              "    <tr>\n",
              "      <th>1</th>\n",
              "      <td>-1.509401</td>\n",
              "      <td>male</td>\n",
              "      <td>0.509431</td>\n",
              "      <td>-0.078738</td>\n",
              "      <td>no</td>\n",
              "      <td>southeast</td>\n",
              "      <td>1725.55230</td>\n",
              "    </tr>\n",
              "    <tr>\n",
              "      <th>2</th>\n",
              "      <td>-0.797655</td>\n",
              "      <td>male</td>\n",
              "      <td>0.383164</td>\n",
              "      <td>1.580335</td>\n",
              "      <td>no</td>\n",
              "      <td>southeast</td>\n",
              "      <td>4449.46200</td>\n",
              "    </tr>\n",
              "    <tr>\n",
              "      <th>3</th>\n",
              "      <td>-0.441782</td>\n",
              "      <td>male</td>\n",
              "      <td>-1.305043</td>\n",
              "      <td>-0.908274</td>\n",
              "      <td>no</td>\n",
              "      <td>northwest</td>\n",
              "      <td>21984.47061</td>\n",
              "    </tr>\n",
              "    <tr>\n",
              "      <th>4</th>\n",
              "      <td>-0.512957</td>\n",
              "      <td>male</td>\n",
              "      <td>-0.292447</td>\n",
              "      <td>-0.908274</td>\n",
              "      <td>no</td>\n",
              "      <td>northwest</td>\n",
              "      <td>3866.85520</td>\n",
              "    </tr>\n",
              "    <tr>\n",
              "      <th>...</th>\n",
              "      <td>...</td>\n",
              "      <td>...</td>\n",
              "      <td>...</td>\n",
              "      <td>...</td>\n",
              "      <td>...</td>\n",
              "      <td>...</td>\n",
              "      <td>...</td>\n",
              "    </tr>\n",
              "    <tr>\n",
              "      <th>1333</th>\n",
              "      <td>0.768185</td>\n",
              "      <td>male</td>\n",
              "      <td>0.050278</td>\n",
              "      <td>1.580335</td>\n",
              "      <td>no</td>\n",
              "      <td>northwest</td>\n",
              "      <td>10600.54830</td>\n",
              "    </tr>\n",
              "    <tr>\n",
              "      <th>1334</th>\n",
              "      <td>-1.509401</td>\n",
              "      <td>female</td>\n",
              "      <td>0.206062</td>\n",
              "      <td>-0.908274</td>\n",
              "      <td>no</td>\n",
              "      <td>northeast</td>\n",
              "      <td>2205.98080</td>\n",
              "    </tr>\n",
              "    <tr>\n",
              "      <th>1335</th>\n",
              "      <td>-1.509401</td>\n",
              "      <td>female</td>\n",
              "      <td>1.014499</td>\n",
              "      <td>-0.908274</td>\n",
              "      <td>no</td>\n",
              "      <td>southeast</td>\n",
              "      <td>1629.83350</td>\n",
              "    </tr>\n",
              "    <tr>\n",
              "      <th>1336</th>\n",
              "      <td>-1.295877</td>\n",
              "      <td>female</td>\n",
              "      <td>-0.797515</td>\n",
              "      <td>-0.908274</td>\n",
              "      <td>no</td>\n",
              "      <td>southwest</td>\n",
              "      <td>2007.94500</td>\n",
              "    </tr>\n",
              "    <tr>\n",
              "      <th>1337</th>\n",
              "      <td>1.551106</td>\n",
              "      <td>female</td>\n",
              "      <td>-0.261290</td>\n",
              "      <td>-0.908274</td>\n",
              "      <td>yes</td>\n",
              "      <td>northwest</td>\n",
              "      <td>29141.36030</td>\n",
              "    </tr>\n",
              "  </tbody>\n",
              "</table>\n",
              "<p>1338 rows × 7 columns</p>\n",
              "</div>"
            ],
            "text/plain": [
              "           age     sex       bmi  children smoker     region      charges\n",
              "0    -1.438227  female -0.453151 -0.908274    yes  southwest  16884.92400\n",
              "1    -1.509401    male  0.509431 -0.078738     no  southeast   1725.55230\n",
              "2    -0.797655    male  0.383164  1.580335     no  southeast   4449.46200\n",
              "3    -0.441782    male -1.305043 -0.908274     no  northwest  21984.47061\n",
              "4    -0.512957    male -0.292447 -0.908274     no  northwest   3866.85520\n",
              "...        ...     ...       ...       ...    ...        ...          ...\n",
              "1333  0.768185    male  0.050278  1.580335     no  northwest  10600.54830\n",
              "1334 -1.509401  female  0.206062 -0.908274     no  northeast   2205.98080\n",
              "1335 -1.509401  female  1.014499 -0.908274     no  southeast   1629.83350\n",
              "1336 -1.295877  female -0.797515 -0.908274     no  southwest   2007.94500\n",
              "1337  1.551106  female -0.261290 -0.908274    yes  northwest  29141.36030\n",
              "\n",
              "[1338 rows x 7 columns]"
            ]
          },
          "execution_count": 108,
          "metadata": {},
          "output_type": "execute_result"
        }
      ],
      "source": [
        "mdf"
      ]
    },
    {
      "cell_type": "code",
      "execution_count": null,
      "metadata": {
        "id": "pW8jTfYzQrxX"
      },
      "outputs": [],
      "source": [
        "mdf = pd.get_dummies(mdf, columns=['region', 'smoker', 'sex'])"
      ]
    },
    {
      "cell_type": "code",
      "execution_count": null,
      "metadata": {
        "colab": {
          "base_uri": "https://localhost:8080/",
          "height": 206
        },
        "id": "Z7l2xTSVRmii",
        "outputId": "6830753d-e732-4ee0-ebc6-bef8f6bde24c"
      },
      "outputs": [
        {
          "data": {
            "text/html": [
              "<div>\n",
              "<style scoped>\n",
              "    .dataframe tbody tr th:only-of-type {\n",
              "        vertical-align: middle;\n",
              "    }\n",
              "\n",
              "    .dataframe tbody tr th {\n",
              "        vertical-align: top;\n",
              "    }\n",
              "\n",
              "    .dataframe thead th {\n",
              "        text-align: right;\n",
              "    }\n",
              "</style>\n",
              "<table border=\"1\" class=\"dataframe\">\n",
              "  <thead>\n",
              "    <tr style=\"text-align: right;\">\n",
              "      <th></th>\n",
              "      <th>age</th>\n",
              "      <th>bmi</th>\n",
              "      <th>children</th>\n",
              "      <th>charges</th>\n",
              "      <th>region_northeast</th>\n",
              "      <th>region_northwest</th>\n",
              "      <th>region_southeast</th>\n",
              "      <th>region_southwest</th>\n",
              "      <th>smoker_no</th>\n",
              "      <th>smoker_yes</th>\n",
              "      <th>sex_female</th>\n",
              "      <th>sex_male</th>\n",
              "    </tr>\n",
              "  </thead>\n",
              "  <tbody>\n",
              "    <tr>\n",
              "      <th>0</th>\n",
              "      <td>-1.438227</td>\n",
              "      <td>-0.453151</td>\n",
              "      <td>-0.908274</td>\n",
              "      <td>16884.92400</td>\n",
              "      <td>0</td>\n",
              "      <td>0</td>\n",
              "      <td>0</td>\n",
              "      <td>1</td>\n",
              "      <td>0</td>\n",
              "      <td>1</td>\n",
              "      <td>1</td>\n",
              "      <td>0</td>\n",
              "    </tr>\n",
              "    <tr>\n",
              "      <th>1</th>\n",
              "      <td>-1.509401</td>\n",
              "      <td>0.509431</td>\n",
              "      <td>-0.078738</td>\n",
              "      <td>1725.55230</td>\n",
              "      <td>0</td>\n",
              "      <td>0</td>\n",
              "      <td>1</td>\n",
              "      <td>0</td>\n",
              "      <td>1</td>\n",
              "      <td>0</td>\n",
              "      <td>0</td>\n",
              "      <td>1</td>\n",
              "    </tr>\n",
              "    <tr>\n",
              "      <th>2</th>\n",
              "      <td>-0.797655</td>\n",
              "      <td>0.383164</td>\n",
              "      <td>1.580335</td>\n",
              "      <td>4449.46200</td>\n",
              "      <td>0</td>\n",
              "      <td>0</td>\n",
              "      <td>1</td>\n",
              "      <td>0</td>\n",
              "      <td>1</td>\n",
              "      <td>0</td>\n",
              "      <td>0</td>\n",
              "      <td>1</td>\n",
              "    </tr>\n",
              "    <tr>\n",
              "      <th>3</th>\n",
              "      <td>-0.441782</td>\n",
              "      <td>-1.305043</td>\n",
              "      <td>-0.908274</td>\n",
              "      <td>21984.47061</td>\n",
              "      <td>0</td>\n",
              "      <td>1</td>\n",
              "      <td>0</td>\n",
              "      <td>0</td>\n",
              "      <td>1</td>\n",
              "      <td>0</td>\n",
              "      <td>0</td>\n",
              "      <td>1</td>\n",
              "    </tr>\n",
              "    <tr>\n",
              "      <th>4</th>\n",
              "      <td>-0.512957</td>\n",
              "      <td>-0.292447</td>\n",
              "      <td>-0.908274</td>\n",
              "      <td>3866.85520</td>\n",
              "      <td>0</td>\n",
              "      <td>1</td>\n",
              "      <td>0</td>\n",
              "      <td>0</td>\n",
              "      <td>1</td>\n",
              "      <td>0</td>\n",
              "      <td>0</td>\n",
              "      <td>1</td>\n",
              "    </tr>\n",
              "  </tbody>\n",
              "</table>\n",
              "</div>"
            ],
            "text/plain": [
              "        age       bmi  children      charges  region_northeast  \\\n",
              "0 -1.438227 -0.453151 -0.908274  16884.92400                 0   \n",
              "1 -1.509401  0.509431 -0.078738   1725.55230                 0   \n",
              "2 -0.797655  0.383164  1.580335   4449.46200                 0   \n",
              "3 -0.441782 -1.305043 -0.908274  21984.47061                 0   \n",
              "4 -0.512957 -0.292447 -0.908274   3866.85520                 0   \n",
              "\n",
              "   region_northwest  region_southeast  region_southwest  smoker_no  \\\n",
              "0                 0                 0                 1          0   \n",
              "1                 0                 1                 0          1   \n",
              "2                 0                 1                 0          1   \n",
              "3                 1                 0                 0          1   \n",
              "4                 1                 0                 0          1   \n",
              "\n",
              "   smoker_yes  sex_female  sex_male  \n",
              "0           1           1         0  \n",
              "1           0           0         1  \n",
              "2           0           0         1  \n",
              "3           0           0         1  \n",
              "4           0           0         1  "
            ]
          },
          "execution_count": 110,
          "metadata": {},
          "output_type": "execute_result"
        }
      ],
      "source": [
        "mdf.head()"
      ]
    },
    {
      "cell_type": "code",
      "execution_count": null,
      "metadata": {
        "colab": {
          "base_uri": "https://localhost:8080/"
        },
        "id": "o2ShpixshKkb",
        "outputId": "d0e2dc53-69de-412c-f2cd-8523f14ae82e"
      },
      "outputs": [
        {
          "name": "stdout",
          "output_type": "stream",
          "text": [
            "<class 'pandas.core.frame.DataFrame'>\n",
            "RangeIndex: 1338 entries, 0 to 1337\n",
            "Data columns (total 12 columns):\n",
            " #   Column            Non-Null Count  Dtype  \n",
            "---  ------            --------------  -----  \n",
            " 0   age               1338 non-null   float64\n",
            " 1   bmi               1338 non-null   float64\n",
            " 2   children          1338 non-null   float64\n",
            " 3   charges           1338 non-null   float64\n",
            " 4   region_northeast  1338 non-null   uint8  \n",
            " 5   region_northwest  1338 non-null   uint8  \n",
            " 6   region_southeast  1338 non-null   uint8  \n",
            " 7   region_southwest  1338 non-null   uint8  \n",
            " 8   smoker_no         1338 non-null   uint8  \n",
            " 9   smoker_yes        1338 non-null   uint8  \n",
            " 10  sex_female        1338 non-null   uint8  \n",
            " 11  sex_male          1338 non-null   uint8  \n",
            "dtypes: float64(4), uint8(8)\n",
            "memory usage: 52.4 KB\n"
          ]
        }
      ],
      "source": [
        "mdf.info()"
      ]
    },
    {
      "cell_type": "code",
      "execution_count": null,
      "metadata": {
        "id": "5RhMcga4mQ2T"
      },
      "outputs": [],
      "source": [
        "x = np.array(mdf.loc[:, mdf.columns != 'charges'].values)\n",
        "y = np.array(mdf['charges'].values)"
      ]
    },
    {
      "cell_type": "code",
      "execution_count": null,
      "metadata": {
        "colab": {
          "base_uri": "https://localhost:8080/"
        },
        "id": "cbp6mvY4otvA",
        "outputId": "dca0032d-bc8f-4052-dd28-05bdce066dd7"
      },
      "outputs": [
        {
          "data": {
            "text/plain": [
              "(1338, 11)"
            ]
          },
          "execution_count": 113,
          "metadata": {},
          "output_type": "execute_result"
        }
      ],
      "source": [
        "x.shape"
      ]
    },
    {
      "cell_type": "code",
      "execution_count": null,
      "metadata": {
        "id": "d53KFqVcicsn"
      },
      "outputs": [],
      "source": [
        "def CostFunction(x,y,w,b):\n",
        "    cost = np.sum((((x.dot(w) + b) - y) ** 2) / (2*len(y)))\n",
        "    return cost\n",
        "\n",
        "def GradientDescent(x, y, w, b, learning_rate, epochs):\n",
        "    cost_list = [0] * epochs\n",
        "   \n",
        "    for epoch in range(epochs):\n",
        "        z = x.dot(w) + b\n",
        "        loss = z - y\n",
        "        \n",
        "        weight_gradient = x.T.dot(loss) / len(y)\n",
        "        bias_gradient = np.sum(loss) / len(y)\n",
        "        \n",
        "        w = w - learning_rate*weight_gradient\n",
        "        b = b - learning_rate*bias_gradient\n",
        "  \n",
        "        cost = CostFunction(x, y, w, b)\n",
        "        cost_list[epoch] = cost\n",
        "        \n",
        "        if (epoch%(epochs/10)==0):\n",
        "            print(\"Cost is:\",cost)\n",
        "        \n",
        "    return w, b, cost_list"
      ]
    },
    {
      "cell_type": "code",
      "execution_count": null,
      "metadata": {
        "id": "dsP3pQFzo4Cm"
      },
      "outputs": [],
      "source": [
        "from sklearn.model_selection import train_test_split\n",
        "Xtrain, Xtest, Ytrain, Ytest = train_test_split( x, y, test_size = 0.3, random_state=42)"
      ]
    },
    {
      "cell_type": "code",
      "execution_count": null,
      "metadata": {
        "colab": {
          "base_uri": "https://localhost:8080/"
        },
        "id": "T0Pi18gbmEuX",
        "outputId": "b29e009c-25dd-444c-a9b5-b19e36b1cfbf"
      },
      "outputs": [
        {
          "name": "stdout",
          "output_type": "stream",
          "text": [
            "Cost is: 161894678.24932694\n",
            "Cost is: 28883116.166532513\n",
            "Cost is: 20533709.63809287\n",
            "Cost is: 19148531.17181986\n",
            "Cost is: 18914493.98339802\n",
            "Cost is: 18874092.1762556\n",
            "Cost is: 18866916.415646557\n",
            "Cost is: 18865594.64051104\n",
            "Cost is: 18865340.282422855\n",
            "Cost is: 18865288.907730702\n"
          ]
        }
      ],
      "source": [
        "w, b, c= GradientDescent(Xtrain, Ytrain, np.zeros(Xtrain.shape[1]), 0, 0.002,epochs=15000)"
      ]
    },
    {
      "cell_type": "code",
      "execution_count": null,
      "metadata": {
        "colab": {
          "base_uri": "https://localhost:8080/",
          "height": 294
        },
        "id": "VxMOyFwSpTt_",
        "outputId": "19467a1e-0af5-48f1-abb7-9b79064d9d97"
      },
      "outputs": [
        {
          "data": {
            "text/plain": [
              "[<matplotlib.lines.Line2D at 0x16942f8b0>]"
            ]
          },
          "execution_count": 117,
          "metadata": {},
          "output_type": "execute_result"
        },
        {
          "data": {
            "image/png": "[encoded data removed]",
            "text/plain": [
              "<Figure size 432x288 with 1 Axes>"
            ]
          },
          "metadata": {},
          "output_type": "display_data"
        }
      ],
      "source": [
        "plt.plot(c)"
      ]
    },
    {
      "cell_type": "code",
      "execution_count": null,
      "metadata": {
        "id": "0qAinvl5pfIN"
      },
      "outputs": [],
      "source": [
        "def predict(X, w, b):\n",
        "    return X.dot(w) + b\n",
        "    \n",
        "y_pred = predict(Xtest, w, b)"
      ]
    },
    {
      "cell_type": "code",
      "execution_count": null,
      "metadata": {
        "colab": {
          "base_uri": "https://localhost:8080/"
        },
        "id": "iHxrJhgspZbf",
        "outputId": "2ccd4add-ac49-4b88-a053-1642ff41d183"
      },
      "outputs": [
        {
          "data": {
            "text/plain": [
              "0.7695998835279532"
            ]
          },
          "execution_count": 119,
          "metadata": {},
          "output_type": "execute_result"
        }
      ],
      "source": [
        "def r2score(y_pred, y):\n",
        "    rss = np.sum((y_pred - y) ** 2)\n",
        "    tss = np.sum((y-y.mean()) ** 2)\n",
        "    \n",
        "    r2 = 1 - (rss / tss)\n",
        "    return r2\n",
        "r2score(y_pred, Ytest)"
      ]
    },
    {
      "cell_type": "code",
      "execution_count": null,
      "metadata": {
        "colab": {
          "base_uri": "https://localhost:8080/"
        },
        "id": "WUXQ7dOztQo8",
        "outputId": "682ebe12-ce33-4a39-f370-bbb40c553ab6"
      },
      "outputs": [
        {
          "data": {
            "text/plain": [
              "5812.250649829195"
            ]
          },
          "execution_count": 120,
          "metadata": {},
          "output_type": "execute_result"
        }
      ],
      "source": [
        "def rmse(predictions, targets):\n",
        "    return np.sqrt(((predictions - targets) ** 2).mean())\n",
        "rmse(y_pred, Ytest)"
      ]
    },
    {
      "cell_type": "code",
      "execution_count": null,
      "metadata": {
        "id": "2Zb46sRtgqn0"
      },
      "outputs": [],
      "source": [
        "# ================================================================================================"
      ]
    },
    {
      "cell_type": "code",
      "execution_count": null,
      "metadata": {
        "colab": {
          "base_uri": "https://localhost:8080/",
          "height": 206
        },
        "id": "cV2ZeLFidrKN",
        "outputId": "24233573-11e2-48a0-bfae-320b4da4899c"
      },
      "outputs": [
        {
          "data": {
            "text/html": [
              "<div>\n",
              "<style scoped>\n",
              "    .dataframe tbody tr th:only-of-type {\n",
              "        vertical-align: middle;\n",
              "    }\n",
              "\n",
              "    .dataframe tbody tr th {\n",
              "        vertical-align: top;\n",
              "    }\n",
              "\n",
              "    .dataframe thead th {\n",
              "        text-align: right;\n",
              "    }\n",
              "</style>\n",
              "<table border=\"1\" class=\"dataframe\">\n",
              "  <thead>\n",
              "    <tr style=\"text-align: right;\">\n",
              "      <th></th>\n",
              "      <th>age</th>\n",
              "      <th>bmi</th>\n",
              "      <th>children</th>\n",
              "      <th>charges</th>\n",
              "      <th>region_northeast</th>\n",
              "      <th>region_northwest</th>\n",
              "      <th>region_southeast</th>\n",
              "      <th>region_southwest</th>\n",
              "      <th>smoker_no</th>\n",
              "      <th>smoker_yes</th>\n",
              "      <th>sex_female</th>\n",
              "      <th>sex_male</th>\n",
              "    </tr>\n",
              "  </thead>\n",
              "  <tbody>\n",
              "    <tr>\n",
              "      <th>0</th>\n",
              "      <td>-1.438227</td>\n",
              "      <td>-0.453151</td>\n",
              "      <td>-0.908274</td>\n",
              "      <td>16884.92400</td>\n",
              "      <td>0</td>\n",
              "      <td>0</td>\n",
              "      <td>0</td>\n",
              "      <td>1</td>\n",
              "      <td>0</td>\n",
              "      <td>1</td>\n",
              "      <td>1</td>\n",
              "      <td>0</td>\n",
              "    </tr>\n",
              "    <tr>\n",
              "      <th>1</th>\n",
              "      <td>-1.509401</td>\n",
              "      <td>0.509431</td>\n",
              "      <td>-0.078738</td>\n",
              "      <td>1725.55230</td>\n",
              "      <td>0</td>\n",
              "      <td>0</td>\n",
              "      <td>1</td>\n",
              "      <td>0</td>\n",
              "      <td>1</td>\n",
              "      <td>0</td>\n",
              "      <td>0</td>\n",
              "      <td>1</td>\n",
              "    </tr>\n",
              "    <tr>\n",
              "      <th>2</th>\n",
              "      <td>-0.797655</td>\n",
              "      <td>0.383164</td>\n",
              "      <td>1.580335</td>\n",
              "      <td>4449.46200</td>\n",
              "      <td>0</td>\n",
              "      <td>0</td>\n",
              "      <td>1</td>\n",
              "      <td>0</td>\n",
              "      <td>1</td>\n",
              "      <td>0</td>\n",
              "      <td>0</td>\n",
              "      <td>1</td>\n",
              "    </tr>\n",
              "    <tr>\n",
              "      <th>3</th>\n",
              "      <td>-0.441782</td>\n",
              "      <td>-1.305043</td>\n",
              "      <td>-0.908274</td>\n",
              "      <td>21984.47061</td>\n",
              "      <td>0</td>\n",
              "      <td>1</td>\n",
              "      <td>0</td>\n",
              "      <td>0</td>\n",
              "      <td>1</td>\n",
              "      <td>0</td>\n",
              "      <td>0</td>\n",
              "      <td>1</td>\n",
              "    </tr>\n",
              "    <tr>\n",
              "      <th>4</th>\n",
              "      <td>-0.512957</td>\n",
              "      <td>-0.292447</td>\n",
              "      <td>-0.908274</td>\n",
              "      <td>3866.85520</td>\n",
              "      <td>0</td>\n",
              "      <td>1</td>\n",
              "      <td>0</td>\n",
              "      <td>0</td>\n",
              "      <td>1</td>\n",
              "      <td>0</td>\n",
              "      <td>0</td>\n",
              "      <td>1</td>\n",
              "    </tr>\n",
              "  </tbody>\n",
              "</table>\n",
              "</div>"
            ],
            "text/plain": [
              "        age       bmi  children      charges  region_northeast  \\\n",
              "0 -1.438227 -0.453151 -0.908274  16884.92400                 0   \n",
              "1 -1.509401  0.509431 -0.078738   1725.55230                 0   \n",
              "2 -0.797655  0.383164  1.580335   4449.46200                 0   \n",
              "3 -0.441782 -1.305043 -0.908274  21984.47061                 0   \n",
              "4 -0.512957 -0.292447 -0.908274   3866.85520                 0   \n",
              "\n",
              "   region_northwest  region_southeast  region_southwest  smoker_no  \\\n",
              "0                 0                 0                 1          0   \n",
              "1                 0                 1                 0          1   \n",
              "2                 0                 1                 0          1   \n",
              "3                 1                 0                 0          1   \n",
              "4                 1                 0                 0          1   \n",
              "\n",
              "   smoker_yes  sex_female  sex_male  \n",
              "0           1           1         0  \n",
              "1           0           0         1  \n",
              "2           0           0         1  \n",
              "3           0           0         1  \n",
              "4           0           0         1  "
            ]
          },
          "execution_count": 122,
          "metadata": {},
          "output_type": "execute_result"
        }
      ],
      "source": [
        "mdf.head()"
      ]
    },
    {
      "cell_type": "code",
      "execution_count": null,
      "metadata": {
        "id": "9WX54ieSeDh_"
      },
      "outputs": [],
      "source": [
        "X = mdf.drop(columns = ['charges'])"
      ]
    },
    {
      "cell_type": "code",
      "execution_count": null,
      "metadata": {
        "id": "smdYjmTNeuvj"
      },
      "outputs": [],
      "source": [
        "Y = mdf['charges']"
      ]
    },
    {
      "cell_type": "code",
      "execution_count": null,
      "metadata": {
        "colab": {
          "base_uri": "https://localhost:8080/"
        },
        "id": "ypDU-JdEchBQ",
        "outputId": "5d96dd96-8dd1-48b5-e667-cdcff5e447b7"
      },
      "outputs": [
        {
          "data": {
            "text/plain": [
              "((11, 1338), (1, 1338))"
            ]
          },
          "execution_count": 125,
          "metadata": {},
          "output_type": "execute_result"
        }
      ],
      "source": [
        "# Make sure that dimensions correct\n",
        "X_train = np.array(X).T\n",
        "Y_train = np.array(Y)\n",
        "Y_train = Y_train.reshape(Y_train.shape[0], 1).T\n",
        "\n",
        "\n",
        "assert X_train.shape[1] == Y_train.shape[1]\n",
        "X_train.shape, Y_train.shape"
      ]
    },
    {
      "cell_type": "code",
      "execution_count": null,
      "metadata": {
        "id": "WqFp7SVsfHtm"
      },
      "outputs": [],
      "source": [
        "# d = model(X_train, Y_train, num_iterations = 50000, learning_rate = 0.0001, print_cost = True)"
      ]
    }
  ],
  "metadata": {
    "colab": {
      "collapsed_sections": [
        "YxlpcHX6Bt8X"
      ],
      "name": "FSM_2_LinearRegression_Final.ipynb",
      "provenance": [],
      "include_colab_link": true
    },
    "interpreter": {
      "hash": "a0d3c5e4dbf34d03e255832dd4daf115e12e670228debe72a91e0e96f26a1e5c"
    },
    "kernelspec": {
      "display_name": "Python 3.8.13 (conda)",
      "language": "python",
      "name": "python3"
    },
    "language_info": {
      "codemirror_mode": {
        "name": "ipython",
        "version": 3
      },
      "file_extension": ".py",
      "mimetype": "text/x-python",
      "name": "python",
      "nbconvert_exporter": "python",
      "pygments_lexer": "ipython3",
      "version": "3.8.13"
    }
  },
  "nbformat": 4,
  "nbformat_minor": 0
}